{
 "cells": [
  {
   "cell_type": "markdown",
   "metadata": {
    "id": "XuXWJLEm2UWS"
   },
   "source": [
    "# **CS224W - Colab 5**\n",
    "\n",
    "[![Open In Colab](https://colab.research.google.com/assets/colab-badge.svg)](https://colab.research.google.com/github/scpd-proed/XCS224W-Colab5/blob/main/Notebook/XCS224W_Colab5.ipynb)\n",
    "\n",
    "Before opening the colab with the badge, you would need to allow Google Colab to access the GitHub private repositories. Please check therefore [this tutorial](https://colab.research.google.com/github/googlecolab/colabtools/blob/master/notebooks/colab-github-demo.ipynb#:~:text=Navigate%20to%20http%3A%2F%2Fcolab,to%20read%20the%20private%20files.).\n",
    "\n",
    "If colab is opened with this badge, make sure please **save copy to drive** in 'File' menu before running the notebook."
   ]
  },
  {
   "cell_type": "markdown",
   "metadata": {
    "id": "8gzsP50bF6Gb"
   },
   "source": [
    "In this final Colab we will continue experimenting with advanced topics in GNNs. Specifically, we will look at different techniques for scaling up GNNs using PyTorch Geometric, DeepSNAP and NetworkX. In the previous Colab we worked with PyTorch Geometric's `NeighborSampler` to scale up training and testing on the OGB `arxiv` dataset and now we will be using DeepSNAP and NetworkX, to implement our own simplified version of `NeighborSampler` and run experiments with different sampling ratios on the Cora graph.\n",
    "\n",
    "Lastly, we will partition the Cora graph into clusters by using different partition algorithms and then train the models using a vanilla Cluster-GCN.\n",
    "\n",
    "**Note**: Make sure to **sequentially run all the cells in each section**, so that the intermediate variables / packages will carry over to the next cell"
   ]
  },
  {
   "cell_type": "markdown",
   "metadata": {
    "id": "MSaetj53YnT6"
   },
   "source": [
    "# Device\n",
    "You likely will want to us a GPU for this Colab.\n",
    "\n",
    "Please click `Runtime` and then `Change runtime type`. Then set the `hardware accelerator` to **GPU**."
   ]
  },
  {
   "cell_type": "markdown",
   "metadata": {
    "id": "OCK7krJdp4o8"
   },
   "source": [
    "# Setup\n",
    "As discussed in the first Colabs, the installation of PyG on Colab can be a little bit tricky. First let us check which version of PyTorch you are running"
   ]
  },
  {
   "cell_type": "code",
   "execution_count": null,
   "metadata": {
    "colab": {
     "base_uri": "https://localhost:8080/"
    },
    "id": "2vkP8pA1qBE5",
    "outputId": "2dc5f100-684c-4efd-f153-a5a54649f583"
   },
   "outputs": [],
   "source": [
    "import torch\n",
    "import os\n",
    "print(\"PyTorch has version {}\".format(torch.__version__))"
   ]
  },
  {
   "cell_type": "markdown",
   "metadata": {
    "id": "67gOQITlCNQi"
   },
   "source": [
    "# Installation"
   ]
  },
  {
   "cell_type": "code",
   "execution_count": 2,
   "metadata": {
    "colab": {
     "base_uri": "https://localhost:8080/"
    },
    "id": "J_m9l6OYCQZP",
    "outputId": "3a1915f3-4d3a-462a-cf7c-91d25cb4920d",
    "tags": []
   },
   "outputs": [
    {
     "name": "stdout",
     "output_type": "stream",
     "text": [
      "CLICOLOR=1\n",
      "CLICOLOR_FORCE=1\n",
      "COMMAND_MODE=unix2003\n",
      "CONDA_DEFAULT_ENV=xcs224w\n",
      "CONDA_EXE=/Users/Kauntey.Shah/anaconda3/bin/conda\n",
      "CONDA_PREFIX=/Users/Kauntey.Shah/anaconda3/envs/xcs224w\n",
      "CONDA_PREFIX_1=/Users/Kauntey.Shah/anaconda3\n",
      "CONDA_PROMPT_MODIFIER='(xcs224w) '\n",
      "CONDA_PYTHON_EXE=/Users/Kauntey.Shah/anaconda3/bin/python\n",
      "CONDA_SHLVL=2\n",
      "FORCE_COLOR=1\n",
      "GIT_PAGER=cat\n",
      "HOME=/Users/Kauntey.Shah\n",
      "HOMEBREW_CELLAR=/opt/homebrew/Cellar\n",
      "HOMEBREW_PREFIX=/opt/homebrew\n",
      "HOMEBREW_REPOSITORY=/opt/homebrew\n",
      "INFOPATH=/opt/homebrew/share/info:\n",
      "JAVA_HOME=/Users/Kauntey.Shah/Library/Java/JavaVirtualMachines/openjdk-19.0.2/Contents/Home\n",
      "JPY_PARENT_PID=91925\n",
      "JPY_SESSION_NAME=/Users/Kauntey.Shah/Projects/XCS224W/XCS224W-Colab5/Notebook/XCS224W_Colab5.ipynb\n",
      "LC_CTYPE=en_GB.UTF-8\n",
      "LOGIN_SHELL=1\n",
      "LOGNAME=Kauntey.Shah\n",
      "MANPATH=/opt/homebrew/share/man::\n",
      "MPLBACKEND=module://matplotlib_inline.backend_inline\n",
      "OLDPWD=/Users/Kauntey.Shah/Projects/XCS224W/XCS224W-Colab5/Notebook\n",
      "PAGER=cat\n",
      "PATH='/Users/Kauntey.Shah/anaconda3/envs/xcs224w/bin:/Users/Kauntey.Shah/anaconda3/condabin:/opt/homebrew/bin:/opt/homebrew/sbin:/Library/Frameworks/Python.framework/Versions/3.10/bin:/usr/local/bin:/System/Cryptexes/App/usr/bin:/usr/bin:/bin:/usr/sbin:/sbin:/Applications/VMware Fusion Tech Preview.app/Contents/Public:/usr/local/share/dotnet:/usr/local/munki:~/.dotnet/tools:/Library/Frameworks/Mono.framework/Versions/Current/Commands:/var/run/com.apple.security.cryptexd/codex.system/bootstrap/usr/local/bin:/var/run/com.apple.security.cryptexd/codex.system/bootstrap/usr/bin:/var/run/com.apple.security.cryptexd/codex.system/bootstrap/usr/appleinternal/bin:/Users/Kauntey.Shah/Library/Java/JavaVirtualMachines/openjdk-19.0.2/Contents/Home:/Users/Kauntey.Shah/Projects/development/tools/apache-maven-3.8.6/bin:/Users/Kauntey.Shah/Library/Application Support/Coursier/bin:/Users/Kauntey.Shah/Library/Java/JavaVirtualMachines/openjdk-19.0.2/Contents/Home'\n",
      "PWD=/Users/Kauntey.Shah/Projects/XCS224W/XCS224W-Colab5/Notebook\n",
      "PYDEVD_USE_FRAME_EVAL=NO\n",
      "SHELL=/bin/zsh\n",
      "SHLVL=2\n",
      "SSH_AUTH_SOCK=/private/tmp/com.apple.launchd.Dud8dYkHAA/Listeners\n",
      "TERM=xterm-color\n",
      "TERMINAL_EMULATOR=JetBrains-JediTerm\n",
      "TERM_SESSION_ID=c3231f94-ef18-4397-b5a9-e30d8803575e\n",
      "TMPDIR=/var/folders/f1/qzsy2rls2q719_dqggb3l7fw0000gq/T/\n",
      "USER=Kauntey.Shah\n",
      "XPC_FLAGS=0x0\n",
      "XPC_SERVICE_NAME=0\n",
      "_CE_CONDA=''\n",
      "_CE_M=''\n",
      "__CFBundleIdentifier=com.jetbrains.intellij.ce\n",
      "__CF_USER_TEXT_ENCODING=0x1F7:0:2\n",
      "__INTELLIJ_COMMAND_HISTFILE__=/Users/Kauntey.Shah/Library/Caches/JetBrains/IdeaIC2022.2/terminal/history/XCS224W-history2\n",
      "Looking in links: https://pytorch-geometric.com/whl/torch-2.0.1+cu118.html\n",
      "Requirement already satisfied: torch-scatter in /Users/Kauntey.Shah/anaconda3/envs/XCS224W/lib/python3.10/site-packages (2.1.1)\n",
      "CLICOLOR=1\n",
      "CLICOLOR_FORCE=1\n",
      "COMMAND_MODE=unix2003\n",
      "CONDA_DEFAULT_ENV=xcs224w\n",
      "CONDA_EXE=/Users/Kauntey.Shah/anaconda3/bin/conda\n",
      "CONDA_PREFIX=/Users/Kauntey.Shah/anaconda3/envs/xcs224w\n",
      "CONDA_PREFIX_1=/Users/Kauntey.Shah/anaconda3\n",
      "CONDA_PROMPT_MODIFIER='(xcs224w) '\n",
      "CONDA_PYTHON_EXE=/Users/Kauntey.Shah/anaconda3/bin/python\n",
      "CONDA_SHLVL=2\n",
      "FORCE_COLOR=1\n",
      "GIT_PAGER=cat\n",
      "HOME=/Users/Kauntey.Shah\n",
      "HOMEBREW_CELLAR=/opt/homebrew/Cellar\n",
      "HOMEBREW_PREFIX=/opt/homebrew\n",
      "HOMEBREW_REPOSITORY=/opt/homebrew\n",
      "INFOPATH=/opt/homebrew/share/info:\n",
      "JAVA_HOME=/Users/Kauntey.Shah/Library/Java/JavaVirtualMachines/openjdk-19.0.2/Contents/Home\n",
      "JPY_PARENT_PID=91925\n",
      "JPY_SESSION_NAME=/Users/Kauntey.Shah/Projects/XCS224W/XCS224W-Colab5/Notebook/XCS224W_Colab5.ipynb\n",
      "LC_CTYPE=en_GB.UTF-8\n",
      "LOGIN_SHELL=1\n",
      "LOGNAME=Kauntey.Shah\n",
      "MANPATH=/opt/homebrew/share/man::\n",
      "MPLBACKEND=module://matplotlib_inline.backend_inline\n",
      "OLDPWD=/Users/Kauntey.Shah/Projects/XCS224W/XCS224W-Colab5/Notebook\n",
      "PAGER=cat\n",
      "PATH='/Users/Kauntey.Shah/anaconda3/envs/xcs224w/bin:/Users/Kauntey.Shah/anaconda3/condabin:/opt/homebrew/bin:/opt/homebrew/sbin:/Library/Frameworks/Python.framework/Versions/3.10/bin:/usr/local/bin:/System/Cryptexes/App/usr/bin:/usr/bin:/bin:/usr/sbin:/sbin:/Applications/VMware Fusion Tech Preview.app/Contents/Public:/usr/local/share/dotnet:/usr/local/munki:~/.dotnet/tools:/Library/Frameworks/Mono.framework/Versions/Current/Commands:/var/run/com.apple.security.cryptexd/codex.system/bootstrap/usr/local/bin:/var/run/com.apple.security.cryptexd/codex.system/bootstrap/usr/bin:/var/run/com.apple.security.cryptexd/codex.system/bootstrap/usr/appleinternal/bin:/Users/Kauntey.Shah/Library/Java/JavaVirtualMachines/openjdk-19.0.2/Contents/Home:/Users/Kauntey.Shah/Projects/development/tools/apache-maven-3.8.6/bin:/Users/Kauntey.Shah/Library/Application Support/Coursier/bin:/Users/Kauntey.Shah/Library/Java/JavaVirtualMachines/openjdk-19.0.2/Contents/Home'\n",
      "PWD=/Users/Kauntey.Shah/Projects/XCS224W/XCS224W-Colab5/Notebook\n",
      "PYDEVD_USE_FRAME_EVAL=NO\n",
      "SHELL=/bin/zsh\n",
      "SHLVL=2\n",
      "SSH_AUTH_SOCK=/private/tmp/com.apple.launchd.Dud8dYkHAA/Listeners\n",
      "TERM=xterm-color\n",
      "TERMINAL_EMULATOR=JetBrains-JediTerm\n",
      "TERM_SESSION_ID=c3231f94-ef18-4397-b5a9-e30d8803575e\n",
      "TMPDIR=/var/folders/f1/qzsy2rls2q719_dqggb3l7fw0000gq/T/\n",
      "USER=Kauntey.Shah\n",
      "XPC_FLAGS=0x0\n",
      "XPC_SERVICE_NAME=0\n",
      "_CE_CONDA=''\n",
      "_CE_M=''\n",
      "__CFBundleIdentifier=com.jetbrains.intellij.ce\n",
      "__CF_USER_TEXT_ENCODING=0x1F7:0:2\n",
      "__INTELLIJ_COMMAND_HISTFILE__=/Users/Kauntey.Shah/Library/Caches/JetBrains/IdeaIC2022.2/terminal/history/XCS224W-history2\n",
      "Looking in links: https://pytorch-geometric.com/whl/torch-2.0.1+cu118.html\n",
      "Requirement already satisfied: torch-sparse in /Users/Kauntey.Shah/anaconda3/envs/XCS224W/lib/python3.10/site-packages (0.6.17)\n",
      "Requirement already satisfied: scipy in /Users/Kauntey.Shah/anaconda3/envs/XCS224W/lib/python3.10/site-packages (from torch-sparse) (1.10.1)\n",
      "Requirement already satisfied: numpy<1.27.0,>=1.19.5 in /Users/Kauntey.Shah/anaconda3/envs/XCS224W/lib/python3.10/site-packages (from scipy->torch-sparse) (1.24.3)\n",
      "CLICOLOR=1\n",
      "CLICOLOR_FORCE=1\n",
      "COMMAND_MODE=unix2003\n",
      "CONDA_DEFAULT_ENV=xcs224w\n",
      "CONDA_EXE=/Users/Kauntey.Shah/anaconda3/bin/conda\n",
      "CONDA_PREFIX=/Users/Kauntey.Shah/anaconda3/envs/xcs224w\n",
      "CONDA_PREFIX_1=/Users/Kauntey.Shah/anaconda3\n",
      "CONDA_PROMPT_MODIFIER='(xcs224w) '\n",
      "CONDA_PYTHON_EXE=/Users/Kauntey.Shah/anaconda3/bin/python\n",
      "CONDA_SHLVL=2\n",
      "FORCE_COLOR=1\n",
      "GIT_PAGER=cat\n",
      "HOME=/Users/Kauntey.Shah\n",
      "HOMEBREW_CELLAR=/opt/homebrew/Cellar\n",
      "HOMEBREW_PREFIX=/opt/homebrew\n",
      "HOMEBREW_REPOSITORY=/opt/homebrew\n",
      "INFOPATH=/opt/homebrew/share/info:\n",
      "JAVA_HOME=/Users/Kauntey.Shah/Library/Java/JavaVirtualMachines/openjdk-19.0.2/Contents/Home\n",
      "JPY_PARENT_PID=91925\n",
      "JPY_SESSION_NAME=/Users/Kauntey.Shah/Projects/XCS224W/XCS224W-Colab5/Notebook/XCS224W_Colab5.ipynb\n",
      "LC_CTYPE=en_GB.UTF-8\n",
      "LOGIN_SHELL=1\n",
      "LOGNAME=Kauntey.Shah\n",
      "MANPATH=/opt/homebrew/share/man::\n",
      "MPLBACKEND=module://matplotlib_inline.backend_inline\n",
      "OLDPWD=/Users/Kauntey.Shah/Projects/XCS224W/XCS224W-Colab5/Notebook\n",
      "PAGER=cat\n",
      "PATH='/Users/Kauntey.Shah/anaconda3/envs/xcs224w/bin:/Users/Kauntey.Shah/anaconda3/condabin:/opt/homebrew/bin:/opt/homebrew/sbin:/Library/Frameworks/Python.framework/Versions/3.10/bin:/usr/local/bin:/System/Cryptexes/App/usr/bin:/usr/bin:/bin:/usr/sbin:/sbin:/Applications/VMware Fusion Tech Preview.app/Contents/Public:/usr/local/share/dotnet:/usr/local/munki:~/.dotnet/tools:/Library/Frameworks/Mono.framework/Versions/Current/Commands:/var/run/com.apple.security.cryptexd/codex.system/bootstrap/usr/local/bin:/var/run/com.apple.security.cryptexd/codex.system/bootstrap/usr/bin:/var/run/com.apple.security.cryptexd/codex.system/bootstrap/usr/appleinternal/bin:/Users/Kauntey.Shah/Library/Java/JavaVirtualMachines/openjdk-19.0.2/Contents/Home:/Users/Kauntey.Shah/Projects/development/tools/apache-maven-3.8.6/bin:/Users/Kauntey.Shah/Library/Application Support/Coursier/bin:/Users/Kauntey.Shah/Library/Java/JavaVirtualMachines/openjdk-19.0.2/Contents/Home'\n",
      "PWD=/Users/Kauntey.Shah/Projects/XCS224W/XCS224W-Colab5/Notebook\n",
      "PYDEVD_USE_FRAME_EVAL=NO\n",
      "SHELL=/bin/zsh\n",
      "SHLVL=2\n",
      "SSH_AUTH_SOCK=/private/tmp/com.apple.launchd.Dud8dYkHAA/Listeners\n",
      "TERM=xterm-color\n",
      "TERMINAL_EMULATOR=JetBrains-JediTerm\n",
      "TERM_SESSION_ID=c3231f94-ef18-4397-b5a9-e30d8803575e\n",
      "TMPDIR=/var/folders/f1/qzsy2rls2q719_dqggb3l7fw0000gq/T/\n",
      "USER=Kauntey.Shah\n",
      "XPC_FLAGS=0x0\n",
      "XPC_SERVICE_NAME=0\n",
      "_CE_CONDA=''\n",
      "_CE_M=''\n",
      "__CFBundleIdentifier=com.jetbrains.intellij.ce\n",
      "__CF_USER_TEXT_ENCODING=0x1F7:0:2\n",
      "__INTELLIJ_COMMAND_HISTFILE__=/Users/Kauntey.Shah/Library/Caches/JetBrains/IdeaIC2022.2/terminal/history/XCS224W-history2\n",
      "Requirement already satisfied: torch-geometric in /Users/Kauntey.Shah/anaconda3/envs/XCS224W/lib/python3.10/site-packages (2.3.1)\n",
      "Requirement already satisfied: tqdm in /Users/Kauntey.Shah/anaconda3/envs/XCS224W/lib/python3.10/site-packages (from torch-geometric) (4.65.0)\n",
      "Requirement already satisfied: numpy in /Users/Kauntey.Shah/anaconda3/envs/XCS224W/lib/python3.10/site-packages (from torch-geometric) (1.24.3)\n",
      "Requirement already satisfied: scipy in /Users/Kauntey.Shah/anaconda3/envs/XCS224W/lib/python3.10/site-packages (from torch-geometric) (1.10.1)\n",
      "Requirement already satisfied: jinja2 in /Users/Kauntey.Shah/anaconda3/envs/XCS224W/lib/python3.10/site-packages (from torch-geometric) (3.1.2)\n",
      "Requirement already satisfied: requests in /Users/Kauntey.Shah/anaconda3/envs/XCS224W/lib/python3.10/site-packages (from torch-geometric) (2.29.0)\n",
      "Requirement already satisfied: pyparsing in /Users/Kauntey.Shah/anaconda3/envs/XCS224W/lib/python3.10/site-packages (from torch-geometric) (3.0.9)\n",
      "Requirement already satisfied: scikit-learn in /Users/Kauntey.Shah/anaconda3/envs/XCS224W/lib/python3.10/site-packages (from torch-geometric) (1.2.2)\n",
      "Requirement already satisfied: psutil>=5.8.0 in /Users/Kauntey.Shah/anaconda3/envs/XCS224W/lib/python3.10/site-packages (from torch-geometric) (5.9.0)\n",
      "Requirement already satisfied: MarkupSafe>=2.0 in /Users/Kauntey.Shah/anaconda3/envs/XCS224W/lib/python3.10/site-packages (from jinja2->torch-geometric) (2.1.1)\n",
      "Requirement already satisfied: charset-normalizer<4,>=2 in /Users/Kauntey.Shah/anaconda3/envs/XCS224W/lib/python3.10/site-packages (from requests->torch-geometric) (2.0.4)\n",
      "Requirement already satisfied: idna<4,>=2.5 in /Users/Kauntey.Shah/anaconda3/envs/XCS224W/lib/python3.10/site-packages (from requests->torch-geometric) (3.4)\n",
      "Requirement already satisfied: urllib3<1.27,>=1.21.1 in /Users/Kauntey.Shah/anaconda3/envs/XCS224W/lib/python3.10/site-packages (from requests->torch-geometric) (1.26.16)\n",
      "Requirement already satisfied: certifi>=2017.4.17 in /Users/Kauntey.Shah/anaconda3/envs/XCS224W/lib/python3.10/site-packages (from requests->torch-geometric) (2023.5.7)\n",
      "Requirement already satisfied: joblib>=1.1.1 in /Users/Kauntey.Shah/anaconda3/envs/XCS224W/lib/python3.10/site-packages (from scikit-learn->torch-geometric) (1.2.0)\n",
      "Requirement already satisfied: threadpoolctl>=2.0.0 in /Users/Kauntey.Shah/anaconda3/envs/XCS224W/lib/python3.10/site-packages (from scikit-learn->torch-geometric) (3.1.0)\n",
      "CLICOLOR=1\n",
      "CLICOLOR_FORCE=1\n",
      "COMMAND_MODE=unix2003\n",
      "CONDA_DEFAULT_ENV=xcs224w\n",
      "CONDA_EXE=/Users/Kauntey.Shah/anaconda3/bin/conda\n",
      "CONDA_PREFIX=/Users/Kauntey.Shah/anaconda3/envs/xcs224w\n",
      "CONDA_PREFIX_1=/Users/Kauntey.Shah/anaconda3\n",
      "CONDA_PROMPT_MODIFIER='(xcs224w) '\n",
      "CONDA_PYTHON_EXE=/Users/Kauntey.Shah/anaconda3/bin/python\n",
      "CONDA_SHLVL=2\n",
      "FORCE_COLOR=1\n",
      "GIT_PAGER=cat\n",
      "HOME=/Users/Kauntey.Shah\n",
      "HOMEBREW_CELLAR=/opt/homebrew/Cellar\n",
      "HOMEBREW_PREFIX=/opt/homebrew\n",
      "HOMEBREW_REPOSITORY=/opt/homebrew\n",
      "INFOPATH=/opt/homebrew/share/info:\n",
      "JAVA_HOME=/Users/Kauntey.Shah/Library/Java/JavaVirtualMachines/openjdk-19.0.2/Contents/Home\n",
      "JPY_PARENT_PID=91925\n",
      "JPY_SESSION_NAME=/Users/Kauntey.Shah/Projects/XCS224W/XCS224W-Colab5/Notebook/XCS224W_Colab5.ipynb\n",
      "LC_CTYPE=en_GB.UTF-8\n",
      "LOGIN_SHELL=1\n",
      "LOGNAME=Kauntey.Shah\n",
      "MANPATH=/opt/homebrew/share/man::\n",
      "MPLBACKEND=module://matplotlib_inline.backend_inline\n",
      "OLDPWD=/Users/Kauntey.Shah/Projects/XCS224W/XCS224W-Colab5/Notebook\n",
      "PAGER=cat\n",
      "PATH='/Users/Kauntey.Shah/anaconda3/envs/xcs224w/bin:/Users/Kauntey.Shah/anaconda3/condabin:/opt/homebrew/bin:/opt/homebrew/sbin:/Library/Frameworks/Python.framework/Versions/3.10/bin:/usr/local/bin:/System/Cryptexes/App/usr/bin:/usr/bin:/bin:/usr/sbin:/sbin:/Applications/VMware Fusion Tech Preview.app/Contents/Public:/usr/local/share/dotnet:/usr/local/munki:~/.dotnet/tools:/Library/Frameworks/Mono.framework/Versions/Current/Commands:/var/run/com.apple.security.cryptexd/codex.system/bootstrap/usr/local/bin:/var/run/com.apple.security.cryptexd/codex.system/bootstrap/usr/bin:/var/run/com.apple.security.cryptexd/codex.system/bootstrap/usr/appleinternal/bin:/Users/Kauntey.Shah/Library/Java/JavaVirtualMachines/openjdk-19.0.2/Contents/Home:/Users/Kauntey.Shah/Projects/development/tools/apache-maven-3.8.6/bin:/Users/Kauntey.Shah/Library/Application Support/Coursier/bin:/Users/Kauntey.Shah/Library/Java/JavaVirtualMachines/openjdk-19.0.2/Contents/Home'\n",
      "PWD=/Users/Kauntey.Shah/Projects/XCS224W/XCS224W-Colab5/Notebook\n",
      "PYDEVD_USE_FRAME_EVAL=NO\n",
      "SHELL=/bin/zsh\n",
      "SHLVL=2\n",
      "SSH_AUTH_SOCK=/private/tmp/com.apple.launchd.Dud8dYkHAA/Listeners\n",
      "TERM=xterm-color\n",
      "TERMINAL_EMULATOR=JetBrains-JediTerm\n",
      "TERM_SESSION_ID=c3231f94-ef18-4397-b5a9-e30d8803575e\n",
      "TMPDIR=/var/folders/f1/qzsy2rls2q719_dqggb3l7fw0000gq/T/\n",
      "USER=Kauntey.Shah\n",
      "XPC_FLAGS=0x0\n",
      "XPC_SERVICE_NAME=0\n",
      "_CE_CONDA=''\n",
      "_CE_M=''\n",
      "__CFBundleIdentifier=com.jetbrains.intellij.ce\n",
      "__CF_USER_TEXT_ENCODING=0x1F7:0:2\n",
      "__INTELLIJ_COMMAND_HISTFILE__=/Users/Kauntey.Shah/Library/Caches/JetBrains/IdeaIC2022.2/terminal/history/XCS224W-history2\n",
      "CLICOLOR=1\n",
      "CLICOLOR_FORCE=1\n",
      "COMMAND_MODE=unix2003\n",
      "CONDA_DEFAULT_ENV=xcs224w\n",
      "CONDA_EXE=/Users/Kauntey.Shah/anaconda3/bin/conda\n",
      "CONDA_PREFIX=/Users/Kauntey.Shah/anaconda3/envs/xcs224w\n",
      "CONDA_PREFIX_1=/Users/Kauntey.Shah/anaconda3\n",
      "CONDA_PROMPT_MODIFIER='(xcs224w) '\n",
      "CONDA_PYTHON_EXE=/Users/Kauntey.Shah/anaconda3/bin/python\n",
      "CONDA_SHLVL=2\n",
      "FORCE_COLOR=1\n",
      "GIT_PAGER=cat\n",
      "HOME=/Users/Kauntey.Shah\n",
      "HOMEBREW_CELLAR=/opt/homebrew/Cellar\n",
      "HOMEBREW_PREFIX=/opt/homebrew\n",
      "HOMEBREW_REPOSITORY=/opt/homebrew\n",
      "INFOPATH=/opt/homebrew/share/info:\n",
      "JAVA_HOME=/Users/Kauntey.Shah/Library/Java/JavaVirtualMachines/openjdk-19.0.2/Contents/Home\n",
      "JPY_PARENT_PID=91925\n",
      "JPY_SESSION_NAME=/Users/Kauntey.Shah/Projects/XCS224W/XCS224W-Colab5/Notebook/XCS224W_Colab5.ipynb\n",
      "LC_CTYPE=en_GB.UTF-8\n",
      "LOGIN_SHELL=1\n",
      "LOGNAME=Kauntey.Shah\n",
      "MANPATH=/opt/homebrew/share/man::\n",
      "MPLBACKEND=module://matplotlib_inline.backend_inline\n",
      "OLDPWD=/Users/Kauntey.Shah/Projects/XCS224W/XCS224W-Colab5/Notebook\n",
      "PAGER=cat\n",
      "PATH='/Users/Kauntey.Shah/anaconda3/envs/xcs224w/bin:/Users/Kauntey.Shah/anaconda3/condabin:/opt/homebrew/bin:/opt/homebrew/sbin:/Library/Frameworks/Python.framework/Versions/3.10/bin:/usr/local/bin:/System/Cryptexes/App/usr/bin:/usr/bin:/bin:/usr/sbin:/sbin:/Applications/VMware Fusion Tech Preview.app/Contents/Public:/usr/local/share/dotnet:/usr/local/munki:~/.dotnet/tools:/Library/Frameworks/Mono.framework/Versions/Current/Commands:/var/run/com.apple.security.cryptexd/codex.system/bootstrap/usr/local/bin:/var/run/com.apple.security.cryptexd/codex.system/bootstrap/usr/bin:/var/run/com.apple.security.cryptexd/codex.system/bootstrap/usr/appleinternal/bin:/Users/Kauntey.Shah/Library/Java/JavaVirtualMachines/openjdk-19.0.2/Contents/Home:/Users/Kauntey.Shah/Projects/development/tools/apache-maven-3.8.6/bin:/Users/Kauntey.Shah/Library/Application Support/Coursier/bin:/Users/Kauntey.Shah/Library/Java/JavaVirtualMachines/openjdk-19.0.2/Contents/Home'\n",
      "PWD=/Users/Kauntey.Shah/Projects/XCS224W/XCS224W-Colab5/Notebook\n",
      "PYDEVD_USE_FRAME_EVAL=NO\n",
      "SHELL=/bin/zsh\n",
      "SHLVL=2\n",
      "SSH_AUTH_SOCK=/private/tmp/com.apple.launchd.Dud8dYkHAA/Listeners\n",
      "TERM=xterm-color\n",
      "TERMINAL_EMULATOR=JetBrains-JediTerm\n",
      "TERM_SESSION_ID=c3231f94-ef18-4397-b5a9-e30d8803575e\n",
      "TMPDIR=/var/folders/f1/qzsy2rls2q719_dqggb3l7fw0000gq/T/\n",
      "USER=Kauntey.Shah\n",
      "XPC_FLAGS=0x0\n",
      "XPC_SERVICE_NAME=0\n",
      "_CE_CONDA=''\n",
      "_CE_M=''\n",
      "__CFBundleIdentifier=com.jetbrains.intellij.ce\n",
      "__CF_USER_TEXT_ENCODING=0x1F7:0:2\n",
      "__INTELLIJ_COMMAND_HISTFILE__=/Users/Kauntey.Shah/Library/Caches/JetBrains/IdeaIC2022.2/terminal/history/XCS224W-history2\n"
     ]
    }
   ],
   "source": [
    "# Install torch geometric\n",
    "import os\n",
    "if 'IS_GRADESCOPE_ENV' not in os.environ:\n",
    "  !pip install torch-scatter -f https://pytorch-geometric.com/whl/torch-2.0.1+cu118.html\n",
    "  !pip install torch-sparse -f https://pytorch-geometric.com/whl/torch-2.0.1+cu118.html\n",
    "  !pip install torch-geometric\n",
    "  !pip install -q ogb\n",
    "  !pip install -q git+https://github.com/snap-stanford/deepsnap.git\n"
   ]
  },
  {
   "cell_type": "code",
   "execution_count": 3,
   "metadata": {
    "colab": {
     "base_uri": "https://localhost:8080/",
     "height": 35
    },
    "id": "PRfgbfTjCRD_",
    "outputId": "df8874ec-c447-48e8-85e1-ff5dbc209403",
    "tags": []
   },
   "outputs": [
    {
     "data": {
      "text/plain": [
       "'2.3.1'"
      ]
     },
     "execution_count": 3,
     "metadata": {},
     "output_type": "execute_result"
    }
   ],
   "source": [
    "import torch_geometric\n",
    "torch_geometric.__version__"
   ]
  },
  {
   "cell_type": "markdown",
   "metadata": {
    "id": "WFb2OAvOSn_O"
   },
   "source": [
    "# 1) Neighbor Sampling with Different Ratios\n",
    "\n",
    "We will implement our own simplified version of Neighbor Sampling using DeepSNAP and NetworkX. Then we will use our sampler to train models with different neighborhood sampling ratios and compare their performance.\n",
    "\n",
    "To make our experiments faster, we will use the Cora graph."
   ]
  },
  {
   "cell_type": "markdown",
   "metadata": {
    "id": "P9U0F7bnSz9u"
   },
   "source": [
    "## Setup"
   ]
  },
  {
   "cell_type": "code",
   "execution_count": 4,
   "metadata": {
    "colab": {
     "base_uri": "https://localhost:8080/"
    },
    "id": "PUF4on-fSxcq",
    "outputId": "bd497e4d-5bde-4ac6-ace9-ea0378296de6",
    "tags": []
   },
   "outputs": [
    {
     "name": "stderr",
     "output_type": "stream",
     "text": [
      "Downloading https://github.com/kimiyoung/planetoid/raw/master/data/ind.cora.x\n",
      "Downloading https://github.com/kimiyoung/planetoid/raw/master/data/ind.cora.tx\n",
      "Downloading https://github.com/kimiyoung/planetoid/raw/master/data/ind.cora.allx\n",
      "Downloading https://github.com/kimiyoung/planetoid/raw/master/data/ind.cora.y\n",
      "Downloading https://github.com/kimiyoung/planetoid/raw/master/data/ind.cora.ty\n",
      "Downloading https://github.com/kimiyoung/planetoid/raw/master/data/ind.cora.ally\n",
      "Downloading https://github.com/kimiyoung/planetoid/raw/master/data/ind.cora.graph\n",
      "Downloading https://github.com/kimiyoung/planetoid/raw/master/data/ind.cora.test.index\n",
      "Processing...\n",
      "Done!\n"
     ]
    }
   ],
   "source": [
    "import copy\n",
    "import torch\n",
    "import random\n",
    "import numpy as np\n",
    "import pandas as pd\n",
    "import networkx as nx\n",
    "import torch.nn as nn\n",
    "import torch.nn.functional as F\n",
    "\n",
    "from torch_geometric.nn import SAGEConv\n",
    "from torch.utils.data import DataLoader\n",
    "from torch_geometric.datasets import Planetoid\n",
    "from torch.nn import Sequential, Linear, ReLU\n",
    "from deepsnap.dataset import GraphDataset\n",
    "from deepsnap.graph import Graph\n",
    "\n",
    "if 'IS_GRADESCOPE_ENV' not in os.environ:\n",
    "  pyg_dataset = Planetoid('./tmp', \"Cora\")"
   ]
  },
  {
   "cell_type": "markdown",
   "metadata": {
    "id": "qw6k-KdFTEYw"
   },
   "source": [
    "## GNN Model\n",
    "\n",
    "We use a simple GraphSage GNN model, which we provide to you below. Similar to in section one, notice the slightly different implementations of the forward method depending on the data `mode`. When `mode = \"batch\"` we use Neighbor sampling. Thus, the data parameter contains our graph's node features (`x`) and a list `edge_indices` containing the connectivity of each GNN layer (i.e. an edge_index for each layer, defining the bipartite neighborhood computation graph). \n",
    "\n",
    "**NOTE:** Refer to sections *Neighbor Sampling* and *PyTorch Geometric Neighbor Sampler* from Colab4 for a detailed overview of the Neighbor Sampling technique."
   ]
  },
  {
   "cell_type": "code",
   "execution_count": 5,
   "metadata": {
    "id": "PvUlNi2TS09i",
    "tags": []
   },
   "outputs": [],
   "source": [
    "class GNN(torch.nn.Module):\n",
    "    def __init__(self, input_dim, hidden_dim, output_dim, args):\n",
    "        super(GNN, self).__init__()\n",
    "        self.dropout = args['dropout']\n",
    "        self.num_layers = args['num_layers']\n",
    "\n",
    "        self.convs = nn.ModuleList()\n",
    "        self.bns = nn.ModuleList()\n",
    "\n",
    "        self.convs.append(SAGEConv(input_dim, hidden_dim))\n",
    "        self.bns.append(nn.BatchNorm1d(hidden_dim))\n",
    "\n",
    "        for l in range(self.num_layers - 2):\n",
    "            self.convs.append(SAGEConv(hidden_dim, hidden_dim))\n",
    "            self.bns.append(nn.BatchNorm1d(hidden_dim))\n",
    "        self.convs.append(SAGEConv(hidden_dim, hidden_dim))\n",
    "\n",
    "        self.post_mp = nn.Linear(hidden_dim, output_dim)\n",
    "\n",
    "    def forward(self, data, mode=\"batch\"):\n",
    "        # Observe the difference between mode == \"batch\" and mode == \"all\".\n",
    "        # In mode == \"batch\" we pass in an edge index for each conv layer\n",
    "        # corresponding to that layer's bipartite graph structure.\n",
    "        if mode == \"batch\":\n",
    "            edge_indices, x = data\n",
    "            for i in range(len(self.convs) - 1):\n",
    "                edge_index = edge_indices[i]\n",
    "                x = self.convs[i](x, edge_index)\n",
    "                x = self.bns[i](x)\n",
    "                x = F.relu(x)\n",
    "                x = F.dropout(x, p=self.dropout, training=self.training)\n",
    "            x = self.convs[-1](x, edge_indices[len(self.convs) - 1])\n",
    "        else:\n",
    "            x, edge_index = data.node_feature, data.edge_index\n",
    "            for i in range(len(self.convs) - 1):\n",
    "                x = self.convs[i](x, edge_index)\n",
    "                x = self.bns[i](x)\n",
    "                x = F.relu(x)\n",
    "                x = F.dropout(x, p=self.dropout, training=self.training)\n",
    "            x = self.convs[-1](x, edge_index)\n",
    "        x = self.post_mp(x)\n",
    "        x = F.log_softmax(x, dim=1)\n",
    "        return x"
   ]
  },
  {
   "cell_type": "markdown",
   "metadata": {
    "id": "Ulp1A3evcJ-I"
   },
   "source": [
    "## Implementing Neighbor Sampling\n",
    "\n",
    "Now let's take a stab at implementing our own basic version of Neighbor Sampling using DeepSNAP and NetworkX. To decompose the process, we will define several helper functions before finally defining our own `neighbor_sampling` function! \n",
    "\n",
    "**NOTE:** Before working through this section, we highly recommend reviewing sections `Neighbor Sampling` and `PyTorch Geometric Neighbor Sampler`. Specifically, it is important to understand how we explicitly define an `edge_index` for each GNN layer, representing the bipartite computation graph connecting the `target_nodes` that we are embedding for that layer to their relevant neighbors from the previous layer needed for message passing. "
   ]
  },
  {
   "cell_type": "markdown",
   "metadata": {
    "id": "VWneVr3_Hj4n"
   },
   "source": [
    "## **Question 1.1a**: Implementing the `sample_neighbors` function. (5 points)"
   ]
  },
  {
   "cell_type": "code",
   "execution_count": 6,
   "metadata": {
    "colab": {
     "base_uri": "https://localhost:8080/"
    },
    "id": "V1TZXvJhHjRK",
    "outputId": "659b85f5-0098-4b7a-9424-03392bf09642",
    "tags": []
   },
   "outputs": [
    {
     "name": "stdout",
     "output_type": "stream",
     "text": [
      "Index fields: train_mask ignored.\n",
      "Index fields: test_mask ignored.\n",
      "Index fields: val_mask ignored.\n",
      "Neighbors with ratio = 1: {1632, 1090, 1315, 1316, 1093, 970, 2444, 2642, 1271, 927, 24, 2140, 2367}\n",
      "Neighbors with ratio = 0.3: {970, 2140, 2367}\n",
      "Ratio of sampled neighbors: 0.23076923076923078\n"
     ]
    }
   ],
   "source": [
    "def sample_neighbors(nodes, G, ratio, all_nodes):\n",
    "    # TODO: Implement a function that takes as input a set of nodes, \n",
    "    # a NetworkX graph G, a neighbor sampling ratio, and a set containing all nodes \n",
    "    # and returns:\n",
    "    #   1. A set of the sampled nodes\n",
    "    #   2. A set union between `all_nodes` and the newly sampled neighbor nodes.\n",
    "    #      This allows us to track the nodes needed across all message passing layers.\n",
    "    #   3. The set of edges connecting the sampled neighboring nodes to our input\n",
    "    #      set of nodes. Represents a bi-partite graph between targets (nodes)\n",
    "    #      and source (neighbor) nodes.\n",
    "\n",
    "    neighbors = set()\n",
    "    edges = []\n",
    "\n",
    "    ############# Your code here ############\n",
    "    ## (~8-10 line of code)\n",
    "    ## Note:\n",
    "    ## 1. You will will need to sample neighbors from each node given to you in \n",
    "    ##    `nodes` list. \n",
    "    ##    Hint: Use graph `G` to assist in obtaining the neighbors of each node. \n",
    "    ## 2. The number of neighbors to be sampled based on the `ratio` parameter \n",
    "    ##    must be rounded **down** to get an integer value\n",
    "    ## 3. Randomly sample neighbors without replacement (i.e. the same neighbors \n",
    "    ##    should not be selected more than once for a given node) \n",
    "    ## 4. The neighbors are stored in a set data structure to ensure that duplicates\n",
    "    ##    are avoided.  This is useful as the set union will be taken with `all_nodes`. \n",
    "    ## 5. The edges list should contain all edges sampled in the form of a tuple\n",
    "    ##    of (neighbor, node)  \n",
    "    \n",
    "    for node in nodes:\n",
    "        n_list = list(nx.neighbors(G, node))\n",
    "        \n",
    "        # sample neighbors(ratio * number of neighbors)\n",
    "        num = int(len(n_list) * ratio)\n",
    "        if num > 0 :\n",
    "            random.shuffle(n_list)\n",
    "            n_list = n_list[:num]\n",
    "            for n in n_list:\n",
    "                neighbors.add(n)\n",
    "                edges.append((n, node))\n",
    "    ########################################## \n",
    "    return neighbors, neighbors.union(all_nodes), edges\n",
    "  \n",
    "if 'IS_GRADESCOPE_ENV' not in os.environ:\n",
    "  graphs_train, _, _ = \\\n",
    "      GraphDataset.pyg_to_graphs(pyg_dataset, verbose=True, fixed_split=True)\n",
    "\n",
    "  graph_train = graphs_train[0]\n",
    "\n",
    "  nodes = [15, 16, 17]\n",
    "  neighbors_full, _, _ = sample_neighbors(nodes, graph_train.G, 1, set())\n",
    "  neighbors_sampled, _, _ = sample_neighbors(nodes, graph_train.G, 0.3, set())\n",
    "  print (\"Neighbors with ratio = 1:\", neighbors_full)\n",
    "  print (\"Neighbors with ratio = 0.3:\", neighbors_sampled)\n",
    "  # Note that this is not expected to be 0.3. Since we apply\n",
    "  # our sampling ratio for each node, the number of neighbors\n",
    "  # for each node may not evenly divide by the ratio   \n",
    "  print (\"Ratio of sampled neighbors:\", len(neighbors_sampled) / len(neighbors_full))"
   ]
  },
  {
   "cell_type": "markdown",
   "metadata": {
    "id": "4NKNh4TEJ8_p"
   },
   "source": [
    "## Tensor transformation and node relabeling helper functions. "
   ]
  },
  {
   "cell_type": "code",
   "execution_count": 7,
   "metadata": {
    "id": "H2PeBMJIJ9Tn",
    "tags": []
   },
   "outputs": [],
   "source": [
    "def nodes_to_tensor(nodes):\n",
    "    \"\"\"\n",
    "      Transforms a set of nodes into a node index tensor.\n",
    "    \"\"\"\n",
    "\n",
    "    node_label_index = torch.tensor(list(nodes), dtype=torch.long)\n",
    "    return node_label_index\n",
    "\n",
    "\n",
    "def edges_to_tensor(edges):\n",
    "    \"\"\"\n",
    "      Transforms a list of undirected edges into the corresponding PyG\n",
    "      edge_index tensor representation. Notice that we explicitly make\n",
    "      sure to include both edge directions.  \n",
    "    \"\"\"\n",
    "\n",
    "    edge_index = torch.tensor(list(edges), dtype=torch.long)\n",
    "    edge_index = torch.cat([edge_index, torch.flip(edge_index, [1])], dim=0)\n",
    "    edge_index = edge_index.permute(1, 0)\n",
    "\n",
    "    return edge_index\n",
    "\n",
    "def relabel(nodes, labeled_nodes, edges_list):\n",
    "    \"\"\"\n",
    "      Relabel nodes with 0 based indeces.\n",
    "      \n",
    "      During the sampling process, we are likely to sample a list of\n",
    "      non-continuous node ids. However, our GNN models rely on continuous\n",
    "      0 based indexing to index into the rows of our node features matrix \n",
    "      based on edges in the graph (edge_index)\n",
    "    \"\"\"\n",
    "\n",
    "    relabeled_edges_list = []\n",
    "    sorted_nodes = sorted(nodes)\n",
    "    node_mapping = {node : i for i, node in enumerate(sorted_nodes)}\n",
    "    for orig_edges in edges_list:\n",
    "        relabeled_edges = []\n",
    "        for edge in orig_edges:\n",
    "            relabeled_edges.append((node_mapping[edge[0]], node_mapping[edge[1]]))\n",
    "        relabeled_edges_list.append(relabeled_edges)\n",
    "    relabeled_labeled_nodes = [node_mapping[node] for node in labeled_nodes]\n",
    "    relabeled_nodes = [node_mapping[node] for node in nodes]\n",
    "\n",
    "    return relabeled_edges_list, relabeled_nodes, relabeled_labeled_nodes, sorted_nodes\n"
   ]
  },
  {
   "cell_type": "markdown",
   "metadata": {
    "id": "El-2h_ApOJYP"
   },
   "source": [
    "## **Question 1.1b**: Putting it all together - Implementing our own Neighbor Sampling function. (4 points)\n",
    "\n",
    "Now that we've developed a better understanding of what the Neighbor Sampling function does, we will implement our own version of it. Instead of choosing $H_k$ number of samples at each layer, we will use a ratio of the number of neigbors that a givn node has. Can you think of the pros and cons of using a ratio of the number of neighbors for a node at different layers?  "
   ]
  },
  {
   "cell_type": "code",
   "execution_count": 10,
   "metadata": {
    "colab": {
     "base_uri": "https://localhost:8080/"
    },
    "id": "LI4qHkE4cQOh",
    "outputId": "de449487-a8be-444e-9795-14d97773fc19",
    "tags": []
   },
   "outputs": [
    {
     "name": "stdout",
     "output_type": "stream",
     "text": [
      "Index fields: train_mask ignored.\n",
      "Index fields: test_mask ignored.\n",
      "Index fields: val_mask ignored.\n",
      "Sampled 1889 nodes, 3036 edges, 140 labeled nodes\n"
     ]
    }
   ],
   "source": [
    "def neighbor_sampling(graph, K=2, ratios=(0.1, 0.1, 0.1)):\n",
    "    # TODO: Implement a function that performs Neighbor Sampling on an input\n",
    "    # graph G for a K layer GNN. Notice that len(ratios) = K + 1. Ratios[-1]\n",
    "    # determines size of our mini-batch (i.e. the number of labeled \n",
    "    # nodes we sample computation graphs for). \n",
    "\n",
    "    assert K + 1 == len(ratios)\n",
    "\n",
    "    labeled_nodes = graph.node_label_index.tolist()\n",
    "    random.shuffle(labeled_nodes)\n",
    "    num = int(len(labeled_nodes) * ratios[-1])\n",
    "    if num > 0:\n",
    "        labeled_nodes = labeled_nodes[:num]\n",
    "    nodes_list = [set(labeled_nodes)]\n",
    "    edges_list = []\n",
    "    all_nodes = labeled_nodes\n",
    "\n",
    "    ############# Your code here ############\n",
    "    ## (~4-6 line of code)\n",
    "    ## Note:\n",
    "    ## 1. Using your previously defined `sample_neighbors` function, build up the \n",
    "    ##    edges_list for our K layer network.\n",
    "    ## 2. nodes_list is a list where nodes_list[i] is set of nodes used for message\n",
    "    ##    passing in layer i+1 of our GNN (i.e. level i in our computation graph).\n",
    "    ##    Notice, nodes_list[-1] represents the target nodes we want to \n",
    "    ##    embedd in the mini-batch.\n",
    "    ## 3. edge_list is a list of the bi-partite edge conections between layers\n",
    "    ##    in the computation graph.\n",
    "    ## 4. all_nodes is used to track all the nodes needed for message passing.\n",
    "    ## 5. Remember in a GNN, information flows from the base of the computation\n",
    "    ##    graph to the root. How does this affect the way we add to the nodes_list \n",
    "    ##    and edge_list, as well as how we read from ratios (ratios[-1] \n",
    "    ##    represents the root nodes in our computation graph)?\n",
    "    for k in range(K):\n",
    "        nodes, all_nodes, edges = sample_neighbors(nodes_list[-1], graph.G, ratios[len(ratios) - k - 2], all_nodes)\n",
    "        nodes_list.append(nodes)\n",
    "        edges_list.append(edges)\n",
    "        \n",
    "    # reversing the lists\n",
    "    nodes_list.reverse()\n",
    "    edges_list.reverse()\n",
    "    #########################################\n",
    "\n",
    "    relabeled_edges_list, relabeled_all_nodes, relabeled_labeled_nodes, sorted_original_nodes = \\\n",
    "        relabel(all_nodes, labeled_nodes, edges_list)\n",
    "\n",
    "    node_index = nodes_to_tensor(sorted_original_nodes)\n",
    "    # All node features that will be used\n",
    "    node_feature = graph.node_feature[node_index]\n",
    "    edge_indices = [edges_to_tensor(edges) for edges in relabeled_edges_list]\n",
    "    node_label_index = nodes_to_tensor(relabeled_labeled_nodes)\n",
    "    orig_node_label_index = nodes_to_tensor(labeled_nodes)\n",
    "    log = \"Sampled {} nodes, {} edges, {} labeled nodes\"\n",
    "    print(log.format(node_feature.shape[0], edge_indices[0].shape[1] // 2, node_label_index.shape[0]))\n",
    "    return node_feature, edge_indices, node_label_index, orig_node_label_index\n",
    "\n",
    "if 'IS_GRADESCOPE_ENV' not in os.environ:\n",
    "  # Need to define some basic test! Primarily to test whether they build \n",
    "  # in the correct reverse order. So ideally something like ratio = (0.3, 0.5, 0.8).\n",
    "  # Just need to check shapes.\n",
    "  \n",
    "  graphs_train, _, _ = \\\n",
    "      GraphDataset.pyg_to_graphs(pyg_dataset, verbose=True, fixed_split=True)\n",
    "\n",
    "  graph_train = graphs_train[0]\n",
    "\n",
    "  node_feature, edge_indices, node_label_index, _ = neighbor_sampling(graph_train, K=3, ratios=(0.5, 0.8, 1, 1))"
   ]
  },
  {
   "cell_type": "markdown",
   "metadata": {
    "id": "ooy6Hcf7TIhI"
   },
   "source": [
    "## Training and Testing\n",
    "\n",
    "Additionally, notice that node classification task on Cora is a semi-supervised classification task, here we keep all the labeled training nodes (140 nodes) by setting the last ratio to 1."
   ]
  },
  {
   "cell_type": "code",
   "execution_count": 11,
   "metadata": {
    "id": "iSmZhpzPTGPY",
    "tags": []
   },
   "outputs": [],
   "source": [
    "def train(train_graphs, val_graphs, args, model, optimizer, mode=\"batch\"):\n",
    "    best_val = 0\n",
    "    best_model = None\n",
    "    accs = []\n",
    "    graph_train = train_graphs[0]\n",
    "    graph_train.to(args['device'])\n",
    "    for epoch in range(1, 1 + args['epochs']):\n",
    "        model.train()\n",
    "        optimizer.zero_grad()\n",
    "        if mode == \"batch\":\n",
    "            node_feature, edge_indices, node_label_index, orig_node_index = neighbor_sampling(graph_train, args['num_layers'], args['ratios'])\n",
    "            node_feature = node_feature.to(args['device'])\n",
    "            node_label_index = node_label_index.to(args['device'])\n",
    "            for i in range(len(edge_indices)):\n",
    "                edge_indices[i] = edge_indices[i].to(args['device'])\n",
    "            pred = model([edge_indices, node_feature])\n",
    "            pred = pred[node_label_index]\n",
    "            label = graph_train.node_label[orig_node_index]\n",
    "        elif mode == \"community\":\n",
    "            graph = random.choice(train_graphs)\n",
    "            graph = graph.to(args['device'])\n",
    "            pred = model(graph, mode=\"all\")\n",
    "            pred = pred[graph.node_label_index]\n",
    "            label = graph.node_label[graph.node_label_index]\n",
    "        else:\n",
    "            pred = model(graph_train, mode=\"all\")\n",
    "            label = graph_train.node_label\n",
    "            pred = pred[graph_train.node_label_index]\n",
    "        loss = F.nll_loss(pred, label)\n",
    "        loss.backward()\n",
    "        optimizer.step()\n",
    "\n",
    "        train_acc, val_acc, test_acc = test(val_graphs, model)\n",
    "        accs.append((train_acc, val_acc, test_acc))\n",
    "        if val_acc > best_val:\n",
    "            best_val = val_acc\n",
    "            best_model = copy.deepcopy(model)\n",
    "        print(f'Epoch: {epoch:02d}, '\n",
    "              f'Loss: {loss:.4f}, '\n",
    "              f'Train: {100 * train_acc:.2f}%, '\n",
    "              f'Valid: {100 * val_acc:.2f}% '\n",
    "              f'Test: {100 * test_acc:.2f}%')\n",
    "    return best_model, accs\n",
    "\n",
    "def test(graphs, model, save_model_results=False, batch_type=\"batch\", title=None):\n",
    "    model.eval()\n",
    "    accs = []\n",
    "  \n",
    "    for graph in graphs:\n",
    "        graph = graph.to(args['device'])\n",
    "        pred = model(graph, mode=\"all\")\n",
    "        label = graph.node_label\n",
    "        pred = pred[graph.node_label_index].max(1)[1]\n",
    "        acc = pred.eq(label).sum().item()\n",
    "        acc /= len(label)\n",
    "        accs.append(acc)\n",
    "    \n",
    "    if save_model_results:\n",
    "      print (\"Saving Model Predictions for Model:\", batch_type, title)\n",
    "\n",
    "      data = {}\n",
    "      # The last dataset we test is the test graph\n",
    "      data['pred'] = pred.view(-1).cpu().detach().numpy()\n",
    "      data['label'] = label.view(-1).cpu().detach().numpy()\n",
    "\n",
    "      df = pd.DataFrame(data=data)\n",
    "      # Save locally as csv\n",
    "      file_name = 'CORA_Node_' + batch_type\n",
    "      if title is not None:\n",
    "        file_name = file_name + \"_\" + title\n",
    "\n",
    "      df.to_csv(file_name + '.csv', sep=',', index=False)\n",
    "\n",
    "    return accs"
   ]
  },
  {
   "cell_type": "code",
   "execution_count": 12,
   "metadata": {
    "id": "HV7i0v0ETKzf",
    "tags": []
   },
   "outputs": [],
   "source": [
    "args = {\n",
    "    'device': torch.device('cuda' if torch.cuda.is_available() else 'cpu'),\n",
    "    'dropout': 0.5,\n",
    "    'num_layers': 2,\n",
    "    'hidden_size': 64,\n",
    "    'lr': 0.005,\n",
    "    'epochs': 50,\n",
    "    'ratios': (0.8, 0.8, 1),\n",
    "}"
   ]
  },
  {
   "cell_type": "code",
   "execution_count": 13,
   "metadata": {
    "id": "kfiKId8-iBj1",
    "tags": []
   },
   "outputs": [],
   "source": [
    "def set_seed(seed=224):\n",
    "\n",
    "    random.seed(seed)\n",
    "    np.random.seed(seed)\n",
    "    torch.manual_seed(seed)\n",
    "    torch.backends.cudnn.benchmark = False"
   ]
  },
  {
   "cell_type": "markdown",
   "metadata": {
    "id": "rLpRYKbnTQnj"
   },
   "source": [
    "## Full-Batch Training\n",
    "\n",
    "As a baseline, we train our GNN model over the entire graph without any Neighbor Sampling."
   ]
  },
  {
   "cell_type": "code",
   "execution_count": 14,
   "metadata": {
    "colab": {
     "base_uri": "https://localhost:8080/"
    },
    "id": "pMGGjbJBTOo1",
    "outputId": "9d5c3068-1da9-4453-f1c5-332ffec090e3",
    "tags": []
   },
   "outputs": [
    {
     "name": "stdout",
     "output_type": "stream",
     "text": [
      "Index fields: train_mask ignored.\n",
      "Index fields: test_mask ignored.\n",
      "Index fields: val_mask ignored.\n",
      "Epoch: 01, Loss: 1.9927, Train: 65.00%, Valid: 31.00% Test: 36.20%\n",
      "Epoch: 02, Loss: 1.0889, Train: 97.14%, Valid: 53.20% Test: 57.70%\n",
      "Epoch: 03, Loss: 0.6262, Train: 99.29%, Valid: 66.80% Test: 67.80%\n",
      "Epoch: 04, Loss: 0.2879, Train: 100.00%, Valid: 72.20% Test: 72.70%\n",
      "Epoch: 05, Loss: 0.1308, Train: 100.00%, Valid: 74.20% Test: 73.50%\n",
      "Epoch: 06, Loss: 0.0578, Train: 100.00%, Valid: 74.40% Test: 74.80%\n",
      "Epoch: 07, Loss: 0.0459, Train: 100.00%, Valid: 74.40% Test: 74.40%\n",
      "Epoch: 08, Loss: 0.0291, Train: 100.00%, Valid: 75.40% Test: 75.00%\n",
      "Epoch: 09, Loss: 0.0125, Train: 100.00%, Valid: 74.60% Test: 74.50%\n",
      "Epoch: 10, Loss: 0.0070, Train: 100.00%, Valid: 74.40% Test: 74.50%\n",
      "Epoch: 11, Loss: 0.0105, Train: 100.00%, Valid: 74.40% Test: 74.70%\n",
      "Epoch: 12, Loss: 0.0043, Train: 100.00%, Valid: 74.40% Test: 75.00%\n",
      "Epoch: 13, Loss: 0.0024, Train: 100.00%, Valid: 74.20% Test: 74.90%\n",
      "Epoch: 14, Loss: 0.0096, Train: 100.00%, Valid: 73.80% Test: 74.40%\n",
      "Epoch: 15, Loss: 0.0008, Train: 100.00%, Valid: 73.60% Test: 74.20%\n",
      "Epoch: 16, Loss: 0.0008, Train: 100.00%, Valid: 73.60% Test: 74.40%\n",
      "Epoch: 17, Loss: 0.0016, Train: 100.00%, Valid: 73.40% Test: 74.30%\n",
      "Epoch: 18, Loss: 0.0005, Train: 100.00%, Valid: 73.40% Test: 74.20%\n",
      "Epoch: 19, Loss: 0.0006, Train: 100.00%, Valid: 73.20% Test: 74.00%\n",
      "Epoch: 20, Loss: 0.0015, Train: 100.00%, Valid: 73.40% Test: 74.10%\n",
      "Epoch: 21, Loss: 0.0002, Train: 100.00%, Valid: 73.00% Test: 73.90%\n",
      "Epoch: 22, Loss: 0.0009, Train: 100.00%, Valid: 73.00% Test: 73.90%\n",
      "Epoch: 23, Loss: 0.0001, Train: 100.00%, Valid: 73.00% Test: 73.90%\n",
      "Epoch: 24, Loss: 0.0017, Train: 100.00%, Valid: 72.60% Test: 73.90%\n",
      "Epoch: 25, Loss: 0.0001, Train: 100.00%, Valid: 72.40% Test: 74.00%\n",
      "Epoch: 26, Loss: 0.0013, Train: 100.00%, Valid: 72.40% Test: 74.10%\n",
      "Epoch: 27, Loss: 0.0002, Train: 100.00%, Valid: 72.20% Test: 74.00%\n",
      "Epoch: 28, Loss: 0.0002, Train: 100.00%, Valid: 72.00% Test: 74.10%\n",
      "Epoch: 29, Loss: 0.0001, Train: 100.00%, Valid: 72.20% Test: 74.30%\n",
      "Epoch: 30, Loss: 0.0000, Train: 100.00%, Valid: 72.00% Test: 74.30%\n",
      "Epoch: 31, Loss: 0.0002, Train: 100.00%, Valid: 71.80% Test: 74.50%\n",
      "Epoch: 32, Loss: 0.0002, Train: 100.00%, Valid: 71.80% Test: 74.40%\n",
      "Epoch: 33, Loss: 0.0007, Train: 100.00%, Valid: 72.00% Test: 74.50%\n",
      "Epoch: 34, Loss: 0.0001, Train: 100.00%, Valid: 72.00% Test: 74.50%\n",
      "Epoch: 35, Loss: 0.0001, Train: 100.00%, Valid: 72.00% Test: 74.50%\n",
      "Epoch: 36, Loss: 0.0002, Train: 100.00%, Valid: 72.00% Test: 74.40%\n",
      "Epoch: 37, Loss: 0.0021, Train: 100.00%, Valid: 72.00% Test: 74.40%\n",
      "Epoch: 38, Loss: 0.0000, Train: 100.00%, Valid: 72.20% Test: 74.40%\n",
      "Epoch: 39, Loss: 0.0001, Train: 100.00%, Valid: 72.20% Test: 74.40%\n",
      "Epoch: 40, Loss: 0.0001, Train: 100.00%, Valid: 72.40% Test: 74.40%\n",
      "Epoch: 41, Loss: 0.0010, Train: 100.00%, Valid: 72.40% Test: 74.10%\n",
      "Epoch: 42, Loss: 0.0001, Train: 100.00%, Valid: 72.40% Test: 74.20%\n",
      "Epoch: 43, Loss: 0.0015, Train: 100.00%, Valid: 72.40% Test: 74.30%\n",
      "Epoch: 44, Loss: 0.0001, Train: 100.00%, Valid: 72.40% Test: 74.30%\n",
      "Epoch: 45, Loss: 0.0000, Train: 100.00%, Valid: 72.40% Test: 74.30%\n",
      "Epoch: 46, Loss: 0.0000, Train: 100.00%, Valid: 72.40% Test: 74.30%\n",
      "Epoch: 47, Loss: 0.0001, Train: 100.00%, Valid: 72.40% Test: 74.50%\n",
      "Epoch: 48, Loss: 0.0005, Train: 100.00%, Valid: 72.40% Test: 74.50%\n",
      "Epoch: 49, Loss: 0.0002, Train: 100.00%, Valid: 72.40% Test: 74.40%\n",
      "Epoch: 50, Loss: 0.0001, Train: 100.00%, Valid: 72.40% Test: 74.40%\n",
      "Best model: Train: 100.00%, Valid: 75.40% Test: 75.00%\n"
     ]
    }
   ],
   "source": [
    "if 'IS_GRADESCOPE_ENV' not in os.environ:\n",
    "  \n",
    "  set_seed()\n",
    "\n",
    "  graphs_train, graphs_val, graphs_test = \\\n",
    "      GraphDataset.pyg_to_graphs(pyg_dataset, verbose=True, fixed_split=True)\n",
    "\n",
    "  graph_train = graphs_train[0]\n",
    "  graph_val = graphs_val[0]\n",
    "  graph_test = graphs_test[0]\n",
    "\n",
    "  model = GNN(graph_train.num_node_features, args['hidden_size'], graph_train.num_node_labels, args).to(args['device'])\n",
    "\n",
    "  # Disable compile as this does not seem to work yet in PyTorch 2.0.1/PyG 2.3.1\n",
    "  # try:\n",
    "  #   model = torch_geometric.compile(model)\n",
    "  #   print(f\"GNN Model compiled\")\n",
    "  # except Exception as err:\n",
    "  #   print(f\"Model compile not supported: {err}\")\n",
    "\n",
    "  optimizer = torch.optim.Adam(model.parameters(), lr=args['lr'])\n",
    "  graphs = [graph_train, graph_val, graph_test]\n",
    "  all_best_model, all_accs = train(graphs, graphs, args, model, optimizer, mode=\"all\")\n",
    "  train_acc, val_acc, test_acc = test([graph_train, graph_val, graph_test], all_best_model)\n",
    "  print('Best model:',\n",
    "        f'Train: {100 * train_acc:.2f}%, '\n",
    "        f'Valid: {100 * val_acc:.2f}% '\n",
    "        f'Test: {100 * test_acc:.2f}%')"
   ]
  },
  {
   "cell_type": "markdown",
   "metadata": {
    "id": "JWkGiwB6Thr4"
   },
   "source": [
    "## **Question 1.2a:** What is the maximum test accuracy using samping ratios = (0.7, 0.9, 1)? (12 points)\n",
    "\n",
    "Running the cell below will show the results of your best model and save your best model's predictions to a file named CORA_Node_batch_(0.7, 0.9, 1).csv'.\n",
    "\n",
    "As we have seen before you can view this file by clicking on the Folder icon on the left side pannel. When you sumbit your assignment, you will have to download this file and attatch it to your submission."
   ]
  },
  {
   "cell_type": "code",
   "execution_count": 15,
   "metadata": {
    "colab": {
     "base_uri": "https://localhost:8080/"
    },
    "id": "yWusJ9u3Tfhv",
    "outputId": "000b9140-e038-48a6-f79e-f02a4c4c1e98",
    "tags": []
   },
   "outputs": [
    {
     "name": "stdout",
     "output_type": "stream",
     "text": [
      "Index fields: train_mask ignored.\n",
      "Index fields: test_mask ignored.\n",
      "Index fields: val_mask ignored.\n",
      "Sampled 1282 nodes, 1825 edges, 140 labeled nodes\n",
      "Epoch: 01, Loss: 1.9630, Train: 50.00%, Valid: 20.60% Test: 27.10%\n",
      "Sampled 1247 nodes, 1779 edges, 140 labeled nodes\n",
      "Epoch: 02, Loss: 1.3010, Train: 90.71%, Valid: 48.00% Test: 53.70%\n",
      "Sampled 1267 nodes, 1782 edges, 140 labeled nodes\n",
      "Epoch: 03, Loss: 0.8862, Train: 95.71%, Valid: 63.40% Test: 68.20%\n",
      "Sampled 1250 nodes, 1781 edges, 140 labeled nodes\n",
      "Epoch: 04, Loss: 0.5751, Train: 96.43%, Valid: 69.60% Test: 72.70%\n",
      "Sampled 1260 nodes, 1808 edges, 140 labeled nodes\n",
      "Epoch: 05, Loss: 0.3981, Train: 97.86%, Valid: 72.00% Test: 74.50%\n",
      "Sampled 1277 nodes, 1821 edges, 140 labeled nodes\n",
      "Epoch: 06, Loss: 0.2507, Train: 97.86%, Valid: 72.60% Test: 76.20%\n",
      "Sampled 1284 nodes, 1801 edges, 140 labeled nodes\n",
      "Epoch: 07, Loss: 0.1551, Train: 98.57%, Valid: 72.60% Test: 75.80%\n",
      "Sampled 1274 nodes, 1834 edges, 140 labeled nodes\n",
      "Epoch: 08, Loss: 0.1051, Train: 100.00%, Valid: 73.00% Test: 76.20%\n",
      "Sampled 1273 nodes, 1798 edges, 140 labeled nodes\n",
      "Epoch: 09, Loss: 0.0777, Train: 100.00%, Valid: 74.00% Test: 76.40%\n",
      "Sampled 1223 nodes, 1707 edges, 140 labeled nodes\n",
      "Epoch: 10, Loss: 0.0501, Train: 100.00%, Valid: 74.40% Test: 76.40%\n",
      "Sampled 1241 nodes, 1767 edges, 140 labeled nodes\n",
      "Epoch: 11, Loss: 0.0517, Train: 100.00%, Valid: 74.00% Test: 76.40%\n",
      "Sampled 1262 nodes, 1794 edges, 140 labeled nodes\n",
      "Epoch: 12, Loss: 0.0336, Train: 100.00%, Valid: 74.00% Test: 76.40%\n",
      "Sampled 1253 nodes, 1818 edges, 140 labeled nodes\n",
      "Epoch: 13, Loss: 0.0116, Train: 100.00%, Valid: 74.60% Test: 75.90%\n",
      "Sampled 1247 nodes, 1757 edges, 140 labeled nodes\n",
      "Epoch: 14, Loss: 0.0134, Train: 100.00%, Valid: 74.60% Test: 76.00%\n",
      "Sampled 1248 nodes, 1778 edges, 140 labeled nodes\n",
      "Epoch: 15, Loss: 0.0182, Train: 100.00%, Valid: 74.40% Test: 76.30%\n",
      "Sampled 1258 nodes, 1778 edges, 140 labeled nodes\n",
      "Epoch: 16, Loss: 0.0134, Train: 100.00%, Valid: 74.40% Test: 76.30%\n",
      "Sampled 1266 nodes, 1788 edges, 140 labeled nodes\n",
      "Epoch: 17, Loss: 0.0055, Train: 100.00%, Valid: 74.40% Test: 76.40%\n",
      "Sampled 1262 nodes, 1779 edges, 140 labeled nodes\n",
      "Epoch: 18, Loss: 0.0160, Train: 100.00%, Valid: 74.60% Test: 76.50%\n",
      "Sampled 1271 nodes, 1830 edges, 140 labeled nodes\n",
      "Epoch: 19, Loss: 0.0112, Train: 100.00%, Valid: 74.60% Test: 76.30%\n",
      "Sampled 1228 nodes, 1771 edges, 140 labeled nodes\n",
      "Epoch: 20, Loss: 0.0109, Train: 100.00%, Valid: 74.20% Test: 76.30%\n",
      "Sampled 1277 nodes, 1830 edges, 140 labeled nodes\n",
      "Epoch: 21, Loss: 0.0037, Train: 100.00%, Valid: 74.20% Test: 75.90%\n",
      "Sampled 1236 nodes, 1756 edges, 140 labeled nodes\n",
      "Epoch: 22, Loss: 0.0043, Train: 100.00%, Valid: 74.20% Test: 75.60%\n",
      "Sampled 1264 nodes, 1786 edges, 140 labeled nodes\n",
      "Epoch: 23, Loss: 0.0023, Train: 100.00%, Valid: 73.80% Test: 75.40%\n",
      "Sampled 1291 nodes, 1841 edges, 140 labeled nodes\n",
      "Epoch: 24, Loss: 0.0009, Train: 100.00%, Valid: 73.60% Test: 75.50%\n",
      "Sampled 1264 nodes, 1827 edges, 140 labeled nodes\n",
      "Epoch: 25, Loss: 0.0141, Train: 100.00%, Valid: 73.60% Test: 75.40%\n",
      "Sampled 1261 nodes, 1772 edges, 140 labeled nodes\n",
      "Epoch: 26, Loss: 0.0051, Train: 100.00%, Valid: 73.40% Test: 75.40%\n",
      "Sampled 1274 nodes, 1829 edges, 140 labeled nodes\n",
      "Epoch: 27, Loss: 0.0006, Train: 100.00%, Valid: 73.20% Test: 75.20%\n",
      "Sampled 1267 nodes, 1802 edges, 140 labeled nodes\n",
      "Epoch: 28, Loss: 0.0013, Train: 100.00%, Valid: 72.80% Test: 75.00%\n",
      "Sampled 1279 nodes, 1787 edges, 140 labeled nodes\n",
      "Epoch: 29, Loss: 0.0020, Train: 100.00%, Valid: 73.00% Test: 75.00%\n",
      "Sampled 1274 nodes, 1831 edges, 140 labeled nodes\n",
      "Epoch: 30, Loss: 0.0075, Train: 100.00%, Valid: 73.00% Test: 74.80%\n",
      "Sampled 1231 nodes, 1766 edges, 140 labeled nodes\n",
      "Epoch: 31, Loss: 0.0008, Train: 100.00%, Valid: 73.00% Test: 74.70%\n",
      "Sampled 1262 nodes, 1832 edges, 140 labeled nodes\n",
      "Epoch: 32, Loss: 0.0010, Train: 100.00%, Valid: 73.20% Test: 74.30%\n",
      "Sampled 1240 nodes, 1766 edges, 140 labeled nodes\n",
      "Epoch: 33, Loss: 0.0015, Train: 100.00%, Valid: 72.80% Test: 74.30%\n",
      "Sampled 1265 nodes, 1819 edges, 140 labeled nodes\n",
      "Epoch: 34, Loss: 0.0012, Train: 100.00%, Valid: 72.80% Test: 74.40%\n",
      "Sampled 1237 nodes, 1768 edges, 140 labeled nodes\n",
      "Epoch: 35, Loss: 0.0105, Train: 100.00%, Valid: 72.80% Test: 74.50%\n",
      "Sampled 1256 nodes, 1784 edges, 140 labeled nodes\n",
      "Epoch: 36, Loss: 0.0099, Train: 100.00%, Valid: 72.60% Test: 74.30%\n",
      "Sampled 1267 nodes, 1836 edges, 140 labeled nodes\n",
      "Epoch: 37, Loss: 0.0024, Train: 100.00%, Valid: 72.40% Test: 74.40%\n",
      "Sampled 1265 nodes, 1778 edges, 140 labeled nodes\n",
      "Epoch: 38, Loss: 0.0003, Train: 100.00%, Valid: 72.40% Test: 74.30%\n",
      "Sampled 1273 nodes, 1798 edges, 140 labeled nodes\n",
      "Epoch: 39, Loss: 0.0007, Train: 100.00%, Valid: 72.20% Test: 74.50%\n",
      "Sampled 1203 nodes, 1717 edges, 140 labeled nodes\n",
      "Epoch: 40, Loss: 0.0045, Train: 100.00%, Valid: 72.40% Test: 74.40%\n",
      "Sampled 1250 nodes, 1786 edges, 140 labeled nodes\n",
      "Epoch: 41, Loss: 0.0011, Train: 100.00%, Valid: 72.20% Test: 74.30%\n",
      "Sampled 1280 nodes, 1816 edges, 140 labeled nodes\n",
      "Epoch: 42, Loss: 0.0045, Train: 100.00%, Valid: 72.40% Test: 74.60%\n",
      "Sampled 1245 nodes, 1777 edges, 140 labeled nodes\n",
      "Epoch: 43, Loss: 0.0005, Train: 100.00%, Valid: 72.60% Test: 74.50%\n",
      "Sampled 1294 nodes, 1838 edges, 140 labeled nodes\n",
      "Epoch: 44, Loss: 0.0005, Train: 100.00%, Valid: 72.80% Test: 74.30%\n",
      "Sampled 1252 nodes, 1817 edges, 140 labeled nodes\n",
      "Epoch: 45, Loss: 0.0003, Train: 100.00%, Valid: 73.00% Test: 74.30%\n",
      "Sampled 1268 nodes, 1827 edges, 140 labeled nodes\n",
      "Epoch: 46, Loss: 0.0003, Train: 100.00%, Valid: 73.00% Test: 74.30%\n",
      "Sampled 1248 nodes, 1807 edges, 140 labeled nodes\n",
      "Epoch: 47, Loss: 0.0020, Train: 100.00%, Valid: 73.00% Test: 74.50%\n",
      "Sampled 1197 nodes, 1749 edges, 140 labeled nodes\n",
      "Epoch: 48, Loss: 0.0003, Train: 100.00%, Valid: 73.40% Test: 74.50%\n",
      "Sampled 1260 nodes, 1800 edges, 140 labeled nodes\n",
      "Epoch: 49, Loss: 0.0006, Train: 100.00%, Valid: 73.40% Test: 74.30%\n",
      "Sampled 1250 nodes, 1764 edges, 140 labeled nodes\n",
      "Epoch: 50, Loss: 0.0002, Train: 100.00%, Valid: 73.40% Test: 74.40%\n",
      "Saving Model Predictions for Model: batch (0.7,0.9,1)\n",
      "Best model: Train: 100.00%, Valid: 74.60% Test: 75.90%\n"
     ]
    }
   ],
   "source": [
    "if 'IS_GRADESCOPE_ENV' not in os.environ:\n",
    "  \n",
    "  set_seed()\n",
    "\n",
    "  args['ratios'] = (0.7, 0.9, 1)\n",
    "\n",
    "  graphs_train, graphs_val, graphs_test = \\\n",
    "      GraphDataset.pyg_to_graphs(pyg_dataset, verbose=True, fixed_split=True)\n",
    "\n",
    "  graph_train = graphs_train[0]\n",
    "  graph_val = graphs_val[0]\n",
    "  graph_test = graphs_test[0]\n",
    "\n",
    "  model = GNN(graph_train.num_node_features, args['hidden_size'], graph_train.num_node_labels, args).to(args['device'])\n",
    "\n",
    "  # Disable compile as this does not seem to work yet in PyTorch 2.0.1/PyG 2.3.1\n",
    "  # try:\n",
    "  #   model = torch_geometric.compile(model)\n",
    "  #   print(f\"GNN Model compiled\")\n",
    "  # except Exception as err:\n",
    "  #   print(f\"Model compile not supported: {err}\")\n",
    "    \n",
    "  optimizer = torch.optim.Adam(model.parameters(), lr=args['lr'])\n",
    "  graphs = [graph_train, graph_val, graph_test]\n",
    "  batch_best_model, batch_accs = train(graphs, graphs, args, model, optimizer)\n",
    "  train_acc, val_acc, test_acc = test([graph_train, graph_val, graph_test], batch_best_model, save_model_results=True, batch_type=\"batch\", title=\"(0.7,0.9,1)\")\n",
    "  print('Best model:',\n",
    "        f'Train: {100 * train_acc:.2f}%, '\n",
    "        f'Valid: {100 * val_acc:.2f}% '\n",
    "        f'Test: {100 * test_acc:.2f}%')"
   ]
  },
  {
   "cell_type": "markdown",
   "metadata": {
    "id": "w_FjkNHDT4c6"
   },
   "source": [
    "## **Question 1.2b:** What is the maximum test accuracy using samping ratios = (0.3, 0.5, 1)? (12 points)\n",
    "\n",
    "Running the cell below will show the results of your best model and save your best model's predictions to a file named CORA_Node_batch_(0.3, 0.5, 1).csv'.\n",
    "\n",
    "As we have seen before you can view this file by clicking on the Folder icon on the left side pannel. When you submit your assignment, you will have to download this file and attach it to your submission."
   ]
  },
  {
   "cell_type": "code",
   "execution_count": 16,
   "metadata": {
    "colab": {
     "base_uri": "https://localhost:8080/"
    },
    "id": "booJ6DASTjO4",
    "outputId": "27f531bc-3d33-4f94-c1b7-d88bf4c1ffbe",
    "tags": []
   },
   "outputs": [
    {
     "name": "stdout",
     "output_type": "stream",
     "text": [
      "Index fields: train_mask ignored.\n",
      "Index fields: test_mask ignored.\n",
      "Index fields: val_mask ignored.\n",
      "Sampled 645 nodes, 426 edges, 140 labeled nodes\n",
      "Epoch: 01, Loss: 2.0136, Train: 43.57%, Valid: 18.80% Test: 24.40%\n",
      "Sampled 652 nodes, 452 edges, 140 labeled nodes\n",
      "Epoch: 02, Loss: 1.5003, Train: 77.86%, Valid: 33.80% Test: 38.10%\n",
      "Sampled 692 nodes, 491 edges, 140 labeled nodes\n",
      "Epoch: 03, Loss: 1.1036, Train: 90.00%, Valid: 48.60% Test: 54.00%\n",
      "Sampled 656 nodes, 435 edges, 140 labeled nodes\n",
      "Epoch: 04, Loss: 0.8321, Train: 95.71%, Valid: 62.60% Test: 64.60%\n",
      "Sampled 678 nodes, 475 edges, 140 labeled nodes\n",
      "Epoch: 05, Loss: 0.5980, Train: 97.86%, Valid: 68.80% Test: 71.40%\n",
      "Sampled 659 nodes, 437 edges, 140 labeled nodes\n",
      "Epoch: 06, Loss: 0.4453, Train: 97.86%, Valid: 71.00% Test: 74.30%\n",
      "Sampled 649 nodes, 444 edges, 140 labeled nodes\n",
      "Epoch: 07, Loss: 0.2941, Train: 99.29%, Valid: 73.20% Test: 75.50%\n",
      "Sampled 665 nodes, 447 edges, 140 labeled nodes\n",
      "Epoch: 08, Loss: 0.2043, Train: 99.29%, Valid: 73.20% Test: 76.00%\n",
      "Sampled 706 nodes, 487 edges, 140 labeled nodes\n",
      "Epoch: 09, Loss: 0.1719, Train: 99.29%, Valid: 73.40% Test: 76.00%\n",
      "Sampled 645 nodes, 412 edges, 140 labeled nodes\n",
      "Epoch: 10, Loss: 0.1142, Train: 99.29%, Valid: 73.40% Test: 77.00%\n",
      "Sampled 656 nodes, 420 edges, 140 labeled nodes\n",
      "Epoch: 11, Loss: 0.0587, Train: 100.00%, Valid: 73.60% Test: 76.70%\n",
      "Sampled 664 nodes, 448 edges, 140 labeled nodes\n",
      "Epoch: 12, Loss: 0.0619, Train: 100.00%, Valid: 73.40% Test: 76.50%\n",
      "Sampled 665 nodes, 439 edges, 140 labeled nodes\n",
      "Epoch: 13, Loss: 0.0374, Train: 100.00%, Valid: 74.00% Test: 75.90%\n",
      "Sampled 679 nodes, 459 edges, 140 labeled nodes\n",
      "Epoch: 14, Loss: 0.0225, Train: 100.00%, Valid: 74.20% Test: 76.10%\n",
      "Sampled 635 nodes, 440 edges, 140 labeled nodes\n",
      "Epoch: 15, Loss: 0.0289, Train: 100.00%, Valid: 73.60% Test: 75.90%\n",
      "Sampled 675 nodes, 466 edges, 140 labeled nodes\n",
      "Epoch: 16, Loss: 0.0134, Train: 100.00%, Valid: 74.00% Test: 75.50%\n",
      "Sampled 648 nodes, 421 edges, 140 labeled nodes\n",
      "Epoch: 17, Loss: 0.0232, Train: 100.00%, Valid: 73.60% Test: 75.50%\n",
      "Sampled 663 nodes, 422 edges, 140 labeled nodes\n",
      "Epoch: 18, Loss: 0.0084, Train: 100.00%, Valid: 74.00% Test: 75.00%\n",
      "Sampled 665 nodes, 468 edges, 140 labeled nodes\n",
      "Epoch: 19, Loss: 0.0258, Train: 100.00%, Valid: 73.80% Test: 75.00%\n",
      "Sampled 673 nodes, 453 edges, 140 labeled nodes\n",
      "Epoch: 20, Loss: 0.0060, Train: 100.00%, Valid: 73.20% Test: 75.20%\n",
      "Sampled 642 nodes, 434 edges, 140 labeled nodes\n",
      "Epoch: 21, Loss: 0.0059, Train: 100.00%, Valid: 73.40% Test: 74.70%\n",
      "Sampled 673 nodes, 474 edges, 140 labeled nodes\n",
      "Epoch: 22, Loss: 0.0133, Train: 100.00%, Valid: 73.20% Test: 74.60%\n",
      "Sampled 655 nodes, 454 edges, 140 labeled nodes\n",
      "Epoch: 23, Loss: 0.0027, Train: 100.00%, Valid: 73.00% Test: 74.70%\n",
      "Sampled 654 nodes, 441 edges, 140 labeled nodes\n",
      "Epoch: 24, Loss: 0.0018, Train: 100.00%, Valid: 72.80% Test: 74.80%\n",
      "Sampled 658 nodes, 459 edges, 140 labeled nodes\n",
      "Epoch: 25, Loss: 0.0093, Train: 100.00%, Valid: 72.60% Test: 74.80%\n",
      "Sampled 662 nodes, 445 edges, 140 labeled nodes\n",
      "Epoch: 26, Loss: 0.0021, Train: 100.00%, Valid: 72.20% Test: 74.60%\n",
      "Sampled 643 nodes, 436 edges, 140 labeled nodes\n",
      "Epoch: 27, Loss: 0.0042, Train: 100.00%, Valid: 72.20% Test: 74.40%\n",
      "Sampled 665 nodes, 432 edges, 140 labeled nodes\n",
      "Epoch: 28, Loss: 0.0049, Train: 100.00%, Valid: 71.60% Test: 74.70%\n",
      "Sampled 646 nodes, 437 edges, 140 labeled nodes\n",
      "Epoch: 29, Loss: 0.0210, Train: 100.00%, Valid: 72.00% Test: 74.80%\n",
      "Sampled 688 nodes, 474 edges, 140 labeled nodes\n",
      "Epoch: 30, Loss: 0.0021, Train: 100.00%, Valid: 71.80% Test: 74.70%\n",
      "Sampled 695 nodes, 471 edges, 140 labeled nodes\n",
      "Epoch: 31, Loss: 0.0077, Train: 100.00%, Valid: 71.60% Test: 74.50%\n",
      "Sampled 671 nodes, 459 edges, 140 labeled nodes\n",
      "Epoch: 32, Loss: 0.0044, Train: 100.00%, Valid: 72.00% Test: 74.00%\n",
      "Sampled 630 nodes, 411 edges, 140 labeled nodes\n",
      "Epoch: 33, Loss: 0.0009, Train: 100.00%, Valid: 72.00% Test: 74.10%\n",
      "Sampled 671 nodes, 484 edges, 140 labeled nodes\n",
      "Epoch: 34, Loss: 0.0070, Train: 100.00%, Valid: 71.80% Test: 74.00%\n",
      "Sampled 676 nodes, 453 edges, 140 labeled nodes\n",
      "Epoch: 35, Loss: 0.0033, Train: 100.00%, Valid: 72.00% Test: 74.10%\n",
      "Sampled 655 nodes, 460 edges, 140 labeled nodes\n",
      "Epoch: 36, Loss: 0.0004, Train: 100.00%, Valid: 72.00% Test: 74.10%\n",
      "Sampled 699 nodes, 457 edges, 140 labeled nodes\n",
      "Epoch: 37, Loss: 0.0104, Train: 100.00%, Valid: 72.20% Test: 74.10%\n",
      "Sampled 682 nodes, 478 edges, 140 labeled nodes\n",
      "Epoch: 38, Loss: 0.0012, Train: 100.00%, Valid: 72.20% Test: 73.90%\n",
      "Sampled 673 nodes, 452 edges, 140 labeled nodes\n",
      "Epoch: 39, Loss: 0.0029, Train: 100.00%, Valid: 72.20% Test: 73.70%\n",
      "Sampled 647 nodes, 408 edges, 140 labeled nodes\n",
      "Epoch: 40, Loss: 0.0168, Train: 100.00%, Valid: 72.00% Test: 73.80%\n",
      "Sampled 647 nodes, 433 edges, 140 labeled nodes\n",
      "Epoch: 41, Loss: 0.0014, Train: 100.00%, Valid: 72.20% Test: 73.50%\n",
      "Sampled 642 nodes, 432 edges, 140 labeled nodes\n",
      "Epoch: 42, Loss: 0.0019, Train: 100.00%, Valid: 72.00% Test: 73.40%\n",
      "Sampled 684 nodes, 469 edges, 140 labeled nodes\n",
      "Epoch: 43, Loss: 0.0018, Train: 100.00%, Valid: 72.00% Test: 73.40%\n",
      "Sampled 656 nodes, 445 edges, 140 labeled nodes\n",
      "Epoch: 44, Loss: 0.0005, Train: 100.00%, Valid: 72.20% Test: 73.40%\n",
      "Sampled 672 nodes, 445 edges, 140 labeled nodes\n",
      "Epoch: 45, Loss: 0.0008, Train: 100.00%, Valid: 72.20% Test: 73.40%\n",
      "Sampled 648 nodes, 435 edges, 140 labeled nodes\n",
      "Epoch: 46, Loss: 0.0007, Train: 100.00%, Valid: 72.20% Test: 73.60%\n",
      "Sampled 679 nodes, 449 edges, 140 labeled nodes\n",
      "Epoch: 47, Loss: 0.0017, Train: 100.00%, Valid: 72.40% Test: 73.50%\n",
      "Sampled 642 nodes, 432 edges, 140 labeled nodes\n",
      "Epoch: 48, Loss: 0.0024, Train: 100.00%, Valid: 72.40% Test: 73.40%\n",
      "Sampled 639 nodes, 420 edges, 140 labeled nodes\n",
      "Epoch: 49, Loss: 0.0069, Train: 100.00%, Valid: 72.60% Test: 73.60%\n",
      "Sampled 663 nodes, 446 edges, 140 labeled nodes\n",
      "Epoch: 50, Loss: 0.0233, Train: 100.00%, Valid: 72.60% Test: 73.60%\n",
      "Saving Model Predictions for Model: batch (0.3,0.5,1)\n",
      "Best model: Train: 100.00%, Valid: 74.20% Test: 76.10%\n"
     ]
    }
   ],
   "source": [
    "if 'IS_GRADESCOPE_ENV' not in os.environ:\n",
    "  \n",
    "  set_seed()\n",
    "\n",
    "  # Change the ratio to 0.3\n",
    "  args['ratios'] = (0.3, 0.5, 1)\n",
    "\n",
    "  graphs_train, graphs_val, graphs_test = \\\n",
    "      GraphDataset.pyg_to_graphs(pyg_dataset, verbose=True, fixed_split=True)\n",
    "\n",
    "  graph_train = graphs_train[0]\n",
    "  graph_val = graphs_val[0]\n",
    "  graph_test = graphs_test[0]\n",
    "\n",
    "  model = GNN(graph_train.num_node_features, args['hidden_size'], graph_train.num_node_labels, args).to(args['device'])\n",
    "  \n",
    "  # Disable compile as this does not seem to work yet in PyTorch 2.0.1/PyG 2.3.1\n",
    "  # try:\n",
    "  #   model = torch_geometric.compile(model)\n",
    "  #   print(f\"GNN Model compiled\")\n",
    "  # except Exception as err:\n",
    "  #   print(f\"Model compile not supported: {err}\")\n",
    "\n",
    "  optimizer = torch.optim.Adam(model.parameters(), lr=args['lr'])\n",
    "  graphs = [graph_train, graph_val, graph_test]\n",
    "  batch_best_model, batch_accs_1 = train(graphs, graphs, args, model, optimizer)\n",
    "  train_acc, val_acc, test_acc = test([graph_train, graph_val, graph_test], batch_best_model, save_model_results=True, batch_type=\"batch\", title=\"(0.3,0.5,1)\")\n",
    "  print('Best model:',\n",
    "        f'Train: {100 * train_acc:.2f}%, '\n",
    "        f'Valid: {100 * val_acc:.2f}% '\n",
    "        f'Test: {100 * test_acc:.2f}%')"
   ]
  },
  {
   "cell_type": "markdown",
   "metadata": {
    "id": "EePAvNlGUM2K"
   },
   "source": [
    "## Visualization"
   ]
  },
  {
   "cell_type": "code",
   "execution_count": 17,
   "metadata": {
    "colab": {
     "base_uri": "https://localhost:8080/",
     "height": 641
    },
    "id": "7etNAkXAT55d",
    "outputId": "de3e56a1-08f2-41d4-bc11-1c454fc2f85c",
    "tags": []
   },
   "outputs": [
    {
     "data": {
      "image/png": "[encoded data removed]",
      "text/plain": [
       "<Figure size 900x700 with 1 Axes>"
      ]
     },
     "metadata": {},
     "output_type": "display_data"
    }
   ],
   "source": [
    "import numpy as np\n",
    "from matplotlib import pyplot as plt\n",
    "\n",
    "if 'IS_GRADESCOPE_ENV' not in os.environ:\n",
    "  batch_results = np.array(batch_accs)\n",
    "  batch_results_1 = np.array(batch_accs_1)\n",
    "  all_results = np.array(all_accs)\n",
    "\n",
    "  x = np.arange(1, 51)\n",
    "\n",
    "  plt.figure(figsize=(9, 7))\n",
    "\n",
    "  plt.plot(x, batch_results[:, 0], label=\"Batch 0.8 Train\")\n",
    "  plt.plot(x, batch_results[:, 1], label=\"Batch 0.8 Validation\")\n",
    "  plt.plot(x, batch_results[:, 2], label=\"Batch 0.8 Test\")\n",
    "  plt.plot(x, batch_results_1[:, 0], label=\"Batch 0.3 Train\")\n",
    "  plt.plot(x, batch_results_1[:, 1], label=\"Batch 0.3 Validation\")\n",
    "  plt.plot(x, batch_results_1[:, 2], label=\"Batch 0.3 Test\")\n",
    "  plt.plot(x, all_results[:, 0], label=\"All Train\")\n",
    "  plt.plot(x, all_results[:, 1], label=\"All Validation\")\n",
    "  plt.plot(x, all_results[:, 2], label=\"All Test\")\n",
    "  plt.title('Model Accuracy')\n",
    "  plt.ylabel('Accuracy')\n",
    "  plt.xlabel('Epoch')\n",
    "  plt.legend()\n",
    "  plt.show()"
   ]
  },
  {
   "cell_type": "markdown",
   "metadata": {
    "id": "bkA7-0groq7q"
   },
   "source": [
    "**NOTE:** We always evaluate accuracy in full-batch mode. Namely, only during training do we use neighborhood sub-sampling. We do this for a couple reason: 1) fairness of comparison, 2) we worry most about computational cost during training as compared to evaluation, and 3) during the inference phase we want to leverage as much neighborhood information as possible!  "
   ]
  },
  {
   "cell_type": "markdown",
   "metadata": {
    "id": "Iee0U8KGURc8"
   },
   "source": [
    "# 2) Cluster Sampling\n",
    "\n",
    "As discussed in Module 7.2, we can also use subgraph (cluster) sampling to scale up GNN. Specifically, we will explore the methods proposed in Cluster-GCN ([Chiang et al. (2019)](https://arxiv.org/abs/1905.07953)), where we break our graph into smaller subgraphs to avoid the computational cost of training on the entire graph at once.\n",
    "\n",
    "In this final section, we will implement a vanilla Cluster-GCN and experiment with 3 different community partition algorithms.\n",
    "\n",
    "**NOTE:** the code in this section requires that you have run the `Setup`, `GNN Model` and `Training and Testing` cells of section 2."
   ]
  },
  {
   "cell_type": "markdown",
   "metadata": {
    "id": "_BXjP79gUYir"
   },
   "source": [
    "## Setup"
   ]
  },
  {
   "cell_type": "code",
   "execution_count": 41,
   "metadata": {
    "id": "UGQ_VKp8UOEm",
    "tags": []
   },
   "outputs": [],
   "source": [
    "import copy\n",
    "import torch\n",
    "import random\n",
    "import numpy as np\n",
    "import networkx as nx\n",
    "import torch.nn as nn\n",
    "import pandas as pd\n",
    "import torch.nn.functional as F\n",
    "import community.community_louvain as community_louvain\n",
    "\n",
    "from torch_geometric.nn import SAGEConv\n",
    "from torch.utils.data import DataLoader\n",
    "from torch_geometric.datasets import Planetoid\n",
    "from torch.nn import Sequential, Linear, ReLU\n",
    "from deepsnap.dataset import GraphDataset\n",
    "from deepsnap.graph import Graph\n",
    "\n",
    "if 'IS_GRADESCOPE_ENV' not in os.environ:   \n",
    "  pyg_dataset = Planetoid('./tmp', \"Cora\")"
   ]
  },
  {
   "cell_type": "code",
   "execution_count": 42,
   "metadata": {
    "id": "bzMatyCSUaB6",
    "tags": []
   },
   "outputs": [],
   "source": [
    "args = {\n",
    "    'device': torch.device('cuda' if torch.cuda.is_available() else 'cpu'),\n",
    "    'dropout': 0.5,\n",
    "    'num_layers': 2,\n",
    "    'hidden_size': 64,\n",
    "    'lr': 0.005,\n",
    "    'epochs': 150,\n",
    "}"
   ]
  },
  {
   "cell_type": "markdown",
   "metadata": {
    "id": "ekV-sokSUeLc"
   },
   "source": [
    "## Partitioning the Graph into Clusters\n",
    "\n",
    "We will experiment with three community detection / partition algorithms to partition our graph into different clusters:\n",
    "* [Kernighan–Lin algorithm (bisection)](https://networkx.org/documentation/stable/reference/algorithms/generated/networkx.algorithms.community.kernighan_lin.kernighan_lin_bisection.html)\n",
    "* [Clauset-Newman-Moore greedy modularity maximization](https://networkx.org/documentation/stable/reference/algorithms/generated/networkx.algorithms.community.modularity_max.greedy_modularity_communities.html#networkx.algorithms.community.modularity_max.greedy_modularity_communities)\n",
    "* [Louvain algorithm](https://python-louvain.readthedocs.io/en/latest/api.html)\n",
    "\n",
    "\n",
    "As a preprocessing step, we partition our graph into a list of seperate subgraphs using one of the three communitiy detection algorithms above. Then during training we iteratively train our vanilla Cluster-GNN model on a randomly selected subgraph, rather than on over the entire graph at once. To make training more stable, we discard any communities that have less than 10 nodes.\n",
    "\n",
    "Let's begin by defining the three partition algorithms."
   ]
  },
  {
   "cell_type": "code",
   "execution_count": 48,
   "metadata": {
    "id": "N8XeT005UcKh",
    "tags": []
   },
   "outputs": [],
   "source": [
    "def partition(G, method=\"louvain\"):\n",
    "    # TODO: Implement a function that takes a Networkx graph G and\n",
    "    # partitions the graph into communities using the specified graph\n",
    "    # partition algorithm.\n",
    "    # \n",
    "    # Return: A list of sets of nodes, one for each community!\n",
    "\n",
    "    communities = None\n",
    "\n",
    "    if method == \"louvain\":\n",
    "        ############# Your code here #############\n",
    "        ## (~9 line of code)\n",
    "        ## Note:\n",
    "        ## 1. Find a community mapping corresponding to the partition of the \n",
    "        ##    graph nodes which maximizes the modularity for the Louvain algorithm. \n",
    "        ##    Set your resolution to 10.\n",
    "        ## 2. Create a mapping of communities to a set of member nodes. \n",
    "        ## 3. Extract the node sets from each community and return \n",
    "        ##    as a list of sets. \n",
    "        ##    Hint: Perhaps a dictionary structure can assist.\n",
    "        ## 4. SET random_state = 8\n",
    "        community_mapping = community_louvain.best_partition(G)\n",
    "        communities = {}\n",
    "        for node in community_mapping:\n",
    "            comm = community_mapping[node]\n",
    "            if comm in communities:\n",
    "                communities[comm].add(node)\n",
    "            else:\n",
    "                communities[comm] = set([node])\n",
    "        communities = communities.values()\n",
    "        ##########################################\n",
    "    elif method == \"bisection\":\n",
    "        ############# Your code here #############\n",
    "        ## (~1 line of code)\n",
    "        ## Note:\n",
    "        ## 1. The Kernigan-Lin algorithm ensures that nodes are partitioned into two \n",
    "        ##    primary communities.  \n",
    "        ## 2. Ensure that the resultant data structure is consistent with expected\n",
    "        ##    output.\n",
    "        ## 3. SET seed = 8\n",
    "        \n",
    "        communities = nx.algorithms.community.kernighan_lin_bisection(G)\n",
    "        ##########################################\n",
    "    elif method == \"greedy\":\n",
    "        ############# Your code here #############\n",
    "        ## (~1 line of code)\n",
    "        ## Note:\n",
    "        ## 1. Clauset-Newman-Moore greedy modularity maximization joins pair \n",
    "        ##    of communities nodes that most increases modularity until no such \n",
    "        ##    pair exists.\n",
    "        communities = nx.algorithms.community.greedy_modularity_communities(G)\n",
    "        pass\n",
    "        ##########################################\n",
    "\n",
    "    return communities \n",
    "\n",
    "\n",
    "def preprocess(G, node_label_index, method=\"louvain\"):\n",
    "    graphs = []\n",
    "    labeled_nodes = set(node_label_index.tolist())\n",
    "\n",
    "    communities = partition(G, method)\n",
    "\n",
    "    for community in communities:\n",
    "        nodes = set(community)\n",
    "        subgraph = G.subgraph(nodes)\n",
    "        # Make sure each subgraph has more than 10 nodes\n",
    "        if subgraph.number_of_nodes() > 10:\n",
    "            node_mapping = {node : i for i, node in enumerate(subgraph.nodes())}\n",
    "            subgraph = nx.relabel_nodes(subgraph, node_mapping)\n",
    "            # Get the id of the training set labeled node in the new graph\n",
    "            train_label_index = []\n",
    "            for node in labeled_nodes:\n",
    "                if node in node_mapping:\n",
    "                    # Append relabeled labeled node index\n",
    "                    train_label_index.append(node_mapping[node])\n",
    "\n",
    "            # Make sure the subgraph contains at least one training set labeled node\n",
    "            if len(train_label_index) > 0:\n",
    "                dg = Graph(subgraph)\n",
    "                # Update node_label_index\n",
    "                dg.node_label_index = torch.tensor(train_label_index, dtype=torch.long)\n",
    "                graphs.append(dg)\n",
    "    return graphs"
   ]
  },
  {
   "cell_type": "markdown",
   "metadata": {
    "id": "YKrUdkhC1-A3"
   },
   "source": [
    "## Experimenting with different graph partition algorithms\n",
    "\n",
    "We will now experiment with the three graph partition algorithms, using the resulting graph clusters to train our vanilla Cluster-GNN. We will first observe how each parition algorithm partitions the original graph. Then we will compare the perfomance of our vanilla Cluster-GNN trained using the different graph clustering techniques. Lastly, we will compare against training a vanilla GCN over the entire graph (refered to as Full-Batch training).  "
   ]
  },
  {
   "cell_type": "markdown",
   "metadata": {
    "id": "7CYEamCAU-TJ"
   },
   "source": [
    "## **Question 2.1a:** How does the Louvain algorithm partition our graph? (3 points)\n"
   ]
  },
  {
   "cell_type": "code",
   "execution_count": 49,
   "metadata": {
    "colab": {
     "base_uri": "https://localhost:8080/"
    },
    "id": "-TrC6ybWU7eO",
    "outputId": "27c74405-00b5-4fc5-d70e-a31aaf122985",
    "tags": []
   },
   "outputs": [
    {
     "name": "stdout",
     "output_type": "stream",
     "text": [
      "Index fields: train_mask ignored.\n",
      "Index fields: test_mask ignored.\n",
      "Index fields: val_mask ignored.\n",
      "\n",
      "Partitioning the graph in to 24 communities\n",
      "Each community has 99 nodes in average\n",
      "Each community has 177 edges in average\n"
     ]
    }
   ],
   "source": [
    "if 'IS_GRADESCOPE_ENV' not in os.environ:\n",
    "  \n",
    "  set_seed()\n",
    "\n",
    "  graphs_train, graphs_val, graphs_test = \\\n",
    "      GraphDataset.pyg_to_graphs(pyg_dataset, verbose=True, fixed_split=True)\n",
    "\n",
    "  graph_train = graphs_train[0]\n",
    "  graph_val = graphs_val[0]\n",
    "  graph_test = graphs_test[0]\n",
    "  graphs = preprocess(graph_train.G, graph_train.node_label_index, method=\"louvain\")\n",
    "  print()\n",
    "  print(\"Partitioning the graph in to {} communities\".format(len(graphs)))\n",
    "  avg_num_nodes = 0\n",
    "  avg_num_edges = 0\n",
    "  for graph in graphs:\n",
    "      avg_num_nodes += graph.num_nodes\n",
    "      avg_num_edges += graph.num_edges\n",
    "  avg_num_nodes = int(avg_num_nodes / len(graphs))\n",
    "  avg_num_edges = int(avg_num_edges / len(graphs))\n",
    "  print(\"Each community has {} nodes in average\".format(avg_num_nodes))\n",
    "  print(\"Each community has {} edges in average\".format(avg_num_edges))"
   ]
  },
  {
   "cell_type": "markdown",
   "metadata": {
    "id": "O03uXIuGVIgJ"
   },
   "source": [
    "## **Question 2.1b:** Using Louvain clustering, what is the maximum test accuracy obtained by your vanilla Cluster-GCN? (6 points)\n"
   ]
  },
  {
   "cell_type": "code",
   "execution_count": 50,
   "metadata": {
    "colab": {
     "base_uri": "https://localhost:8080/"
    },
    "id": "iSbGf5ADVFQq",
    "outputId": "aa83b270-1976-48af-b883-3fb412f63f8f",
    "tags": []
   },
   "outputs": [
    {
     "name": "stdout",
     "output_type": "stream",
     "text": [
      "Epoch: 01, Loss: 1.9580, Train: 13.57%, Valid: 20.20% Test: 20.80%\n",
      "Epoch: 02, Loss: 2.1239, Train: 20.00%, Valid: 20.40% Test: 19.40%\n",
      "Epoch: 03, Loss: 2.6115, Train: 18.57%, Valid: 17.40% Test: 17.70%\n",
      "Epoch: 04, Loss: 0.2079, Train: 19.29%, Valid: 16.80% Test: 18.30%\n",
      "Epoch: 05, Loss: 1.7966, Train: 20.71%, Valid: 16.20% Test: 16.70%\n",
      "Epoch: 06, Loss: 2.5783, Train: 20.71%, Valid: 17.80% Test: 16.90%\n",
      "Epoch: 07, Loss: 2.6296, Train: 23.57%, Valid: 17.00% Test: 13.70%\n",
      "Epoch: 08, Loss: 2.6578, Train: 21.43%, Valid: 15.20% Test: 12.70%\n",
      "Epoch: 09, Loss: 1.8858, Train: 28.57%, Valid: 13.60% Test: 12.10%\n",
      "Epoch: 10, Loss: 2.2047, Train: 30.71%, Valid: 13.60% Test: 13.10%\n",
      "Epoch: 11, Loss: 2.5752, Train: 35.71%, Valid: 13.80% Test: 13.80%\n",
      "Epoch: 12, Loss: 1.9116, Train: 37.86%, Valid: 14.40% Test: 15.40%\n",
      "Epoch: 13, Loss: 1.6017, Train: 41.43%, Valid: 17.40% Test: 18.70%\n",
      "Epoch: 14, Loss: 2.0866, Train: 38.57%, Valid: 18.40% Test: 21.00%\n",
      "Epoch: 15, Loss: 0.4416, Train: 39.29%, Valid: 18.20% Test: 21.40%\n",
      "Epoch: 16, Loss: 1.3354, Train: 42.14%, Valid: 19.80% Test: 22.00%\n",
      "Epoch: 17, Loss: 0.4394, Train: 45.71%, Valid: 20.20% Test: 21.90%\n",
      "Epoch: 18, Loss: 0.9084, Train: 45.71%, Valid: 21.40% Test: 22.20%\n",
      "Epoch: 19, Loss: 1.3943, Train: 44.29%, Valid: 23.00% Test: 23.10%\n",
      "Epoch: 20, Loss: 1.9906, Train: 45.00%, Valid: 24.00% Test: 23.60%\n",
      "Epoch: 21, Loss: 2.1618, Train: 45.00%, Valid: 26.00% Test: 24.90%\n",
      "Epoch: 22, Loss: 1.0975, Train: 48.57%, Valid: 26.80% Test: 25.60%\n",
      "Epoch: 23, Loss: 0.6575, Train: 51.43%, Valid: 27.00% Test: 27.10%\n",
      "Epoch: 24, Loss: 3.0473, Train: 55.00%, Valid: 26.80% Test: 28.30%\n",
      "Epoch: 25, Loss: 2.4537, Train: 55.71%, Valid: 26.20% Test: 28.30%\n",
      "Epoch: 26, Loss: 2.5985, Train: 59.29%, Valid: 28.60% Test: 27.60%\n",
      "Epoch: 27, Loss: 3.1055, Train: 64.29%, Valid: 27.80% Test: 27.30%\n",
      "Epoch: 28, Loss: 0.3790, Train: 65.71%, Valid: 24.40% Test: 25.70%\n",
      "Epoch: 29, Loss: 2.4654, Train: 68.57%, Valid: 23.40% Test: 23.40%\n",
      "Epoch: 30, Loss: 2.0133, Train: 70.00%, Valid: 21.80% Test: 22.80%\n",
      "Epoch: 31, Loss: 0.8152, Train: 72.86%, Valid: 21.40% Test: 22.50%\n",
      "Epoch: 32, Loss: 0.4503, Train: 71.43%, Valid: 19.80% Test: 20.60%\n",
      "Epoch: 33, Loss: 0.8854, Train: 71.43%, Valid: 19.60% Test: 19.70%\n",
      "Epoch: 34, Loss: 0.6298, Train: 70.71%, Valid: 18.40% Test: 17.60%\n",
      "Epoch: 35, Loss: 2.0633, Train: 70.71%, Valid: 18.40% Test: 18.20%\n",
      "Epoch: 36, Loss: 1.3251, Train: 71.43%, Valid: 17.60% Test: 18.40%\n",
      "Epoch: 37, Loss: 1.2198, Train: 70.71%, Valid: 17.20% Test: 19.30%\n",
      "Epoch: 38, Loss: 0.2503, Train: 72.14%, Valid: 16.60% Test: 20.40%\n",
      "Epoch: 39, Loss: 0.6875, Train: 73.57%, Valid: 16.80% Test: 21.40%\n",
      "Epoch: 40, Loss: 0.6474, Train: 72.14%, Valid: 18.20% Test: 21.60%\n",
      "Epoch: 41, Loss: 2.4912, Train: 71.43%, Valid: 19.60% Test: 23.30%\n",
      "Epoch: 42, Loss: 1.2300, Train: 73.57%, Valid: 21.40% Test: 24.70%\n",
      "Epoch: 43, Loss: 2.0763, Train: 73.57%, Valid: 22.40% Test: 25.70%\n",
      "Epoch: 44, Loss: 0.5313, Train: 73.57%, Valid: 22.60% Test: 25.60%\n",
      "Epoch: 45, Loss: 0.7878, Train: 75.00%, Valid: 21.60% Test: 25.20%\n",
      "Epoch: 46, Loss: 1.1670, Train: 76.43%, Valid: 22.00% Test: 24.90%\n",
      "Epoch: 47, Loss: 0.3027, Train: 77.86%, Valid: 21.80% Test: 24.40%\n",
      "Epoch: 48, Loss: 0.4153, Train: 76.43%, Valid: 22.60% Test: 24.80%\n",
      "Epoch: 49, Loss: 0.5295, Train: 73.57%, Valid: 23.00% Test: 24.80%\n",
      "Epoch: 50, Loss: 0.6653, Train: 72.86%, Valid: 23.80% Test: 23.90%\n",
      "Epoch: 51, Loss: 0.0805, Train: 72.86%, Valid: 23.60% Test: 23.00%\n",
      "Epoch: 52, Loss: 0.5850, Train: 72.86%, Valid: 23.80% Test: 22.70%\n",
      "Epoch: 53, Loss: 2.8795, Train: 72.86%, Valid: 22.00% Test: 22.20%\n",
      "Epoch: 54, Loss: 2.9168, Train: 72.86%, Valid: 21.60% Test: 22.20%\n",
      "Epoch: 55, Loss: 0.0049, Train: 74.29%, Valid: 23.00% Test: 22.20%\n",
      "Epoch: 56, Loss: 0.2334, Train: 77.86%, Valid: 22.00% Test: 22.10%\n",
      "Epoch: 57, Loss: 0.0513, Train: 78.57%, Valid: 22.20% Test: 22.40%\n",
      "Epoch: 58, Loss: 0.0011, Train: 79.29%, Valid: 22.20% Test: 22.80%\n",
      "Epoch: 59, Loss: 0.0001, Train: 78.57%, Valid: 22.00% Test: 22.40%\n",
      "Epoch: 60, Loss: 0.7658, Train: 82.86%, Valid: 21.80% Test: 23.10%\n",
      "Epoch: 61, Loss: 0.1680, Train: 85.71%, Valid: 21.20% Test: 22.80%\n",
      "Epoch: 62, Loss: 0.5268, Train: 89.29%, Valid: 20.80% Test: 23.40%\n",
      "Epoch: 63, Loss: 0.0236, Train: 88.57%, Valid: 20.00% Test: 23.70%\n",
      "Epoch: 64, Loss: 0.4427, Train: 90.00%, Valid: 19.80% Test: 23.90%\n",
      "Epoch: 65, Loss: 0.4740, Train: 90.00%, Valid: 20.00% Test: 24.00%\n",
      "Epoch: 66, Loss: 0.6639, Train: 90.00%, Valid: 21.00% Test: 24.30%\n",
      "Epoch: 67, Loss: 0.0332, Train: 90.00%, Valid: 22.00% Test: 23.60%\n",
      "Epoch: 68, Loss: 0.0981, Train: 88.57%, Valid: 22.60% Test: 23.70%\n",
      "Epoch: 69, Loss: 0.0929, Train: 88.57%, Valid: 22.40% Test: 23.90%\n",
      "Epoch: 70, Loss: 0.0799, Train: 87.14%, Valid: 22.60% Test: 23.60%\n",
      "Epoch: 71, Loss: 0.0075, Train: 86.43%, Valid: 23.40% Test: 23.30%\n",
      "Epoch: 72, Loss: 0.2537, Train: 88.57%, Valid: 22.80% Test: 23.80%\n",
      "Epoch: 73, Loss: 0.5241, Train: 87.86%, Valid: 23.00% Test: 23.60%\n",
      "Epoch: 74, Loss: 0.0515, Train: 87.14%, Valid: 23.20% Test: 24.10%\n",
      "Epoch: 75, Loss: 0.0228, Train: 87.14%, Valid: 23.00% Test: 23.20%\n",
      "Epoch: 76, Loss: 0.2423, Train: 87.14%, Valid: 22.60% Test: 23.60%\n",
      "Epoch: 77, Loss: 0.2659, Train: 86.43%, Valid: 22.00% Test: 23.60%\n",
      "Epoch: 78, Loss: 0.0671, Train: 85.71%, Valid: 22.40% Test: 23.70%\n",
      "Epoch: 79, Loss: 0.1395, Train: 86.43%, Valid: 22.20% Test: 23.30%\n",
      "Epoch: 80, Loss: 0.7761, Train: 86.43%, Valid: 22.40% Test: 24.50%\n",
      "Epoch: 81, Loss: 0.6136, Train: 87.86%, Valid: 23.20% Test: 25.30%\n",
      "Epoch: 82, Loss: 0.5665, Train: 87.86%, Valid: 23.60% Test: 25.30%\n",
      "Epoch: 83, Loss: 0.0443, Train: 87.86%, Valid: 24.20% Test: 25.60%\n",
      "Epoch: 84, Loss: 0.3296, Train: 87.86%, Valid: 24.40% Test: 25.70%\n",
      "Epoch: 85, Loss: 0.0625, Train: 87.86%, Valid: 24.00% Test: 26.20%\n",
      "Epoch: 86, Loss: 1.3629, Train: 87.86%, Valid: 23.20% Test: 26.60%\n",
      "Epoch: 87, Loss: 0.0139, Train: 89.29%, Valid: 23.40% Test: 26.10%\n",
      "Epoch: 88, Loss: 0.2331, Train: 89.29%, Valid: 24.00% Test: 25.60%\n",
      "Epoch: 89, Loss: 0.0056, Train: 90.00%, Valid: 23.40% Test: 25.50%\n",
      "Epoch: 90, Loss: 0.3920, Train: 90.00%, Valid: 24.60% Test: 26.20%\n",
      "Epoch: 91, Loss: 0.0035, Train: 90.00%, Valid: 24.00% Test: 25.80%\n",
      "Epoch: 92, Loss: 0.0009, Train: 90.00%, Valid: 24.00% Test: 26.00%\n",
      "Epoch: 93, Loss: 0.5957, Train: 90.71%, Valid: 24.00% Test: 25.90%\n",
      "Epoch: 94, Loss: 0.1526, Train: 89.29%, Valid: 23.80% Test: 26.30%\n",
      "Epoch: 95, Loss: 0.0011, Train: 90.71%, Valid: 24.20% Test: 25.50%\n",
      "Epoch: 96, Loss: 0.0057, Train: 90.71%, Valid: 23.60% Test: 25.60%\n",
      "Epoch: 97, Loss: 0.0217, Train: 90.00%, Valid: 23.40% Test: 25.80%\n",
      "Epoch: 98, Loss: 0.0356, Train: 90.00%, Valid: 23.80% Test: 25.30%\n",
      "Epoch: 99, Loss: 0.0006, Train: 90.00%, Valid: 22.80% Test: 25.10%\n",
      "Epoch: 100, Loss: 0.0056, Train: 90.00%, Valid: 22.00% Test: 24.80%\n",
      "Epoch: 101, Loss: 0.2680, Train: 90.00%, Valid: 22.00% Test: 25.20%\n",
      "Epoch: 102, Loss: 0.0007, Train: 89.29%, Valid: 22.80% Test: 25.40%\n",
      "Epoch: 103, Loss: 0.0375, Train: 90.00%, Valid: 22.20% Test: 24.80%\n",
      "Epoch: 104, Loss: 0.0424, Train: 90.00%, Valid: 22.60% Test: 24.30%\n",
      "Epoch: 105, Loss: 0.0344, Train: 90.00%, Valid: 22.20% Test: 24.00%\n",
      "Epoch: 106, Loss: 0.0004, Train: 90.00%, Valid: 21.20% Test: 23.50%\n",
      "Epoch: 107, Loss: 0.0087, Train: 90.00%, Valid: 22.20% Test: 23.90%\n",
      "Epoch: 108, Loss: 0.0111, Train: 90.00%, Valid: 21.80% Test: 23.40%\n",
      "Epoch: 109, Loss: 0.4623, Train: 90.71%, Valid: 21.60% Test: 23.70%\n",
      "Epoch: 110, Loss: 0.1959, Train: 90.71%, Valid: 22.00% Test: 24.00%\n",
      "Epoch: 111, Loss: 0.0153, Train: 90.71%, Valid: 21.80% Test: 24.00%\n",
      "Epoch: 112, Loss: 0.0018, Train: 90.71%, Valid: 22.40% Test: 24.30%\n",
      "Epoch: 113, Loss: 0.2206, Train: 90.71%, Valid: 22.60% Test: 24.40%\n",
      "Epoch: 114, Loss: 0.0002, Train: 90.71%, Valid: 23.00% Test: 24.00%\n",
      "Epoch: 115, Loss: 0.0709, Train: 90.71%, Valid: 23.40% Test: 24.20%\n",
      "Epoch: 116, Loss: 0.0300, Train: 90.71%, Valid: 22.80% Test: 24.20%\n",
      "Epoch: 117, Loss: 0.0122, Train: 90.71%, Valid: 23.60% Test: 24.50%\n",
      "Epoch: 118, Loss: 0.2614, Train: 90.71%, Valid: 24.00% Test: 24.10%\n",
      "Epoch: 119, Loss: 0.0144, Train: 90.71%, Valid: 24.40% Test: 24.60%\n",
      "Epoch: 120, Loss: 0.0102, Train: 90.71%, Valid: 23.40% Test: 24.80%\n",
      "Epoch: 121, Loss: 0.2183, Train: 90.71%, Valid: 23.60% Test: 24.60%\n",
      "Epoch: 122, Loss: 0.0004, Train: 90.71%, Valid: 23.40% Test: 24.60%\n",
      "Epoch: 123, Loss: 0.1833, Train: 90.71%, Valid: 23.60% Test: 24.90%\n",
      "Epoch: 124, Loss: 0.0752, Train: 90.71%, Valid: 23.40% Test: 25.20%\n",
      "Epoch: 125, Loss: 0.0477, Train: 90.71%, Valid: 23.20% Test: 25.30%\n",
      "Epoch: 126, Loss: 0.0002, Train: 90.71%, Valid: 23.60% Test: 25.20%\n",
      "Epoch: 127, Loss: 0.0034, Train: 90.71%, Valid: 24.00% Test: 25.10%\n",
      "Epoch: 128, Loss: 0.0001, Train: 90.71%, Valid: 23.80% Test: 25.10%\n",
      "Epoch: 129, Loss: 0.0181, Train: 91.43%, Valid: 25.00% Test: 25.50%\n",
      "Epoch: 130, Loss: 0.0247, Train: 91.43%, Valid: 25.20% Test: 25.50%\n",
      "Epoch: 131, Loss: 0.0966, Train: 91.43%, Valid: 25.00% Test: 26.00%\n",
      "Epoch: 132, Loss: 0.0199, Train: 91.43%, Valid: 24.40% Test: 25.90%\n",
      "Epoch: 133, Loss: 0.0207, Train: 91.43%, Valid: 24.80% Test: 26.10%\n",
      "Epoch: 134, Loss: 0.0281, Train: 91.43%, Valid: 23.80% Test: 25.80%\n",
      "Epoch: 135, Loss: 0.0192, Train: 91.43%, Valid: 24.40% Test: 25.50%\n",
      "Epoch: 136, Loss: 0.0109, Train: 91.43%, Valid: 24.60% Test: 26.00%\n",
      "Epoch: 137, Loss: 0.0661, Train: 91.43%, Valid: 25.80% Test: 25.90%\n",
      "Epoch: 138, Loss: 0.0126, Train: 90.71%, Valid: 25.80% Test: 26.30%\n",
      "Epoch: 139, Loss: 0.0009, Train: 91.43%, Valid: 26.00% Test: 26.20%\n",
      "Epoch: 140, Loss: 0.0003, Train: 90.71%, Valid: 25.40% Test: 25.60%\n",
      "Epoch: 141, Loss: 0.0014, Train: 91.43%, Valid: 25.00% Test: 25.40%\n",
      "Epoch: 142, Loss: 0.0473, Train: 91.43%, Valid: 25.60% Test: 25.40%\n",
      "Epoch: 143, Loss: 0.0354, Train: 91.43%, Valid: 25.40% Test: 25.30%\n",
      "Epoch: 144, Loss: 0.0126, Train: 91.43%, Valid: 24.20% Test: 25.30%\n",
      "Epoch: 145, Loss: 0.0038, Train: 91.43%, Valid: 25.40% Test: 25.20%\n",
      "Epoch: 146, Loss: 0.0221, Train: 91.43%, Valid: 24.00% Test: 25.70%\n",
      "Epoch: 147, Loss: 0.0884, Train: 91.43%, Valid: 23.40% Test: 25.60%\n",
      "Epoch: 148, Loss: 0.0239, Train: 91.43%, Valid: 23.00% Test: 25.30%\n",
      "Epoch: 149, Loss: 0.1616, Train: 91.43%, Valid: 23.00% Test: 25.20%\n",
      "Epoch: 150, Loss: 0.0013, Train: 91.43%, Valid: 22.40% Test: 25.60%\n",
      "Saving Model Predictions for Model: cluster louvain\n",
      "Best model: Train: 59.29%, Valid: 28.60% Test: 27.60%\n"
     ]
    }
   ],
   "source": [
    "if 'IS_GRADESCOPE_ENV' not in os.environ:\n",
    "  \n",
    "  set_seed()\n",
    "  \n",
    "  model = GNN(graph_train.num_node_features, args['hidden_size'], graph_train.num_node_labels, args).to(args['device'])\n",
    "\n",
    "  # Disable compile as this does not seem to work yet in PyTorch 2.0.1/PyG 2.3.1\n",
    "  # try:\n",
    "  #   model = torch_geometric.compile(model)\n",
    "  #   print(f\"GNN Model compiled\")\n",
    "  # except Exception as err:\n",
    "  #   print(f\"Model compile not supported: {err}\")\n",
    "\n",
    "  optimizer = torch.optim.Adam(model.parameters(), lr=args['lr'])\n",
    "  louvain_best_model, louvain_accs = train(graphs, [graph_train, graph_val, graph_test], args, model, optimizer, mode=\"community\")\n",
    "  train_acc, val_acc, test_acc = test([graph_train, graph_val, graph_test], louvain_best_model, save_model_results=True, batch_type=\"cluster\", title=\"louvain\")\n",
    "  print('Best model:',\n",
    "        f'Train: {100 * train_acc:.2f}%, '\n",
    "        f'Valid: {100 * val_acc:.2f}% '\n",
    "        f'Test: {100 * test_acc:.2f}%')"
   ]
  },
  {
   "cell_type": "markdown",
   "metadata": {
    "id": "6CvTf0ANVO9U"
   },
   "source": [
    "## **Question 2.2a:** How does the Bisection algorithm partition our graph? (3 points)"
   ]
  },
  {
   "cell_type": "code",
   "execution_count": null,
   "metadata": {
    "colab": {
     "base_uri": "https://localhost:8080/"
    },
    "id": "HkV0zlhgVJ7u",
    "outputId": "1e59736a-a9b3-49e3-e2a2-e87592a486d6"
   },
   "outputs": [],
   "source": [
    "if 'IS_GRADESCOPE_ENV' not in os.environ:\n",
    "  \n",
    "  set_seed()\n",
    "\n",
    "  graphs_train, graphs_val, graphs_test = \\\n",
    "      GraphDataset.pyg_to_graphs(pyg_dataset, verbose=True, fixed_split=True)\n",
    "\n",
    "  graph_train = graphs_train[0]\n",
    "  graph_val = graphs_val[0]\n",
    "  graph_test = graphs_test[0]\n",
    "  graphs = preprocess(graph_train.G, graph_train.node_label_index, method=\"bisection\")\n",
    "  print(\"Partition the graph in to {} communities\".format(len(graphs)))\n",
    "  avg_num_nodes = 0\n",
    "  avg_num_edges = 0\n",
    "  for graph in graphs:\n",
    "      avg_num_nodes += graph.num_nodes\n",
    "      avg_num_edges += graph.num_edges\n",
    "  avg_num_nodes = int(avg_num_nodes / len(graphs))\n",
    "  avg_num_edges = int(avg_num_edges / len(graphs))\n",
    "  print(\"Each community has {} nodes in average\".format(avg_num_nodes))\n",
    "  print(\"Each community has {} edges in average\".format(avg_num_edges))"
   ]
  },
  {
   "cell_type": "markdown",
   "metadata": {
    "id": "IqMCvP8wVVms"
   },
   "source": [
    "## **Question 2.2b:** Using the Bisection algorithm to partition the graph, what is the maximum test accuracy obtained by your vanilla Cluster-GCN? (6 points)\n"
   ]
  },
  {
   "cell_type": "code",
   "execution_count": null,
   "metadata": {
    "colab": {
     "base_uri": "https://localhost:8080/"
    },
    "id": "k1wgFg1bVRGY",
    "outputId": "3b136c18-6bfd-4364-e966-f4320b81ed61"
   },
   "outputs": [],
   "source": [
    "if 'IS_GRADESCOPE_ENV' not in os.environ:\n",
    "  \n",
    "  set_seed()\n",
    "  \n",
    "  model = GNN(graph_train.num_node_features, args['hidden_size'], graph_train.num_node_labels, args).to(args['device'])\n",
    "\n",
    "  # Disable compile as this does not seem to work yet in PyTorch 2.0.1/PyG 2.3.1\n",
    "  # try:\n",
    "  #   model = torch_geometric.compile(model)\n",
    "  #   print(f\"GNN Model compiled\")\n",
    "  # except Exception as err:\n",
    "  #   print(f\"Model compile not supported: {err}\")\n",
    "\n",
    "  optimizer = torch.optim.Adam(model.parameters(), lr=args['lr'])\n",
    "  bisection_best_model, bisection_accs = train(graphs, [graph_train, graph_val, graph_test], args, model, optimizer, mode=\"community\")\n",
    "  train_acc, val_acc, test_acc = test([graph_train, graph_val, graph_test], bisection_best_model, save_model_results=True, batch_type=\"cluster\", title=\"bisection\")\n",
    "  print('Best model:',\n",
    "        f'Train: {100 * train_acc:.2f}%, '\n",
    "        f'Valid: {100 * val_acc:.2f}% '\n",
    "        f'Test: {100 * test_acc:.2f}%')"
   ]
  },
  {
   "cell_type": "markdown",
   "metadata": {
    "id": "5PROPwoOVcJy"
   },
   "source": [
    "## **Question 2.3a:** How does Greedy preprocessing partition our graph? (3 points)"
   ]
  },
  {
   "cell_type": "code",
   "execution_count": null,
   "metadata": {
    "colab": {
     "base_uri": "https://localhost:8080/"
    },
    "id": "h3DVamWqVT92",
    "outputId": "edd56562-0cc1-4815-a1f5-e271ff962358"
   },
   "outputs": [],
   "source": [
    "if 'IS_GRADESCOPE_ENV' not in os.environ:\n",
    "  \n",
    "  set_seed()\n",
    "\n",
    "  graphs_train, graphs_val, graphs_test = \\\n",
    "      GraphDataset.pyg_to_graphs(pyg_dataset, verbose=True, fixed_split=True)\n",
    "\n",
    "  graph_train = graphs_train[0]\n",
    "  graph_val = graphs_val[0]\n",
    "  graph_test = graphs_test[0]\n",
    "  graphs = preprocess(graph_train.G, graph_train.node_label_index, method=\"greedy\")\n",
    "  print(\"Partition the graph in to {} communities\".format(len(graphs)))\n",
    "  avg_num_nodes = 0\n",
    "  avg_num_edges = 0\n",
    "  for graph in graphs:\n",
    "      avg_num_nodes += graph.num_nodes\n",
    "      avg_num_edges += graph.num_edges\n",
    "  avg_num_nodes = int(avg_num_nodes / len(graphs))\n",
    "  avg_num_edges = int(avg_num_edges / len(graphs))\n",
    "  print(\"Each community has {} nodes in average\".format(avg_num_nodes))\n",
    "  print(\"Each community has {} edges in average\".format(avg_num_edges))"
   ]
  },
  {
   "cell_type": "markdown",
   "metadata": {
    "id": "93pR_-kxVgma"
   },
   "source": [
    "## **Question 2.3b:** Using Greedy preprocessing to partition the graph, what is the maximum test accuracy obtained by your vanilla Cluster-GCN? (6 points)"
   ]
  },
  {
   "cell_type": "code",
   "execution_count": null,
   "metadata": {
    "colab": {
     "base_uri": "https://localhost:8080/"
    },
    "id": "lQgQY-jPVd_U",
    "outputId": "5182d19b-ce30-406c-c7e8-1a55b80c429c"
   },
   "outputs": [],
   "source": [
    "if 'IS_GRADESCOPE_ENV' not in os.environ: \n",
    "  \n",
    "  set_seed()\n",
    "\n",
    "  model = GNN(graph_train.num_node_features, args['hidden_size'], graph_train.num_node_labels, args).to(args['device'])\n",
    "\n",
    "  # Disable compile as this does not seem to work yet in PyTorch 2.0.1/PyG 2.3.1\n",
    "  # try:\n",
    "  #   model = torch_geometric.compile(model)\n",
    "  #   print(f\"GNN Model compiled\")\n",
    "  # except Exception as err:\n",
    "  #   print(f\"Model compile not supported: {err}\")\n",
    "\n",
    "  optimizer = torch.optim.Adam(model.parameters(), lr=args['lr'])\n",
    "  greedy_best_model, greedy_accs = train(graphs, [graph_train, graph_val, graph_test], args, model, optimizer, mode=\"community\")\n",
    "  train_acc, val_acc, test_acc = test([graph_train, graph_val, graph_test], greedy_best_model, save_model_results=True, batch_type=\"cluster\", title=\"greedy\")\n",
    "  print('Best model:',\n",
    "        f'Train: {100 * train_acc:.2f}%, '\n",
    "        f'Valid: {100 * val_acc:.2f}% '\n",
    "        f'Test: {100 * test_acc:.2f}%')"
   ]
  },
  {
   "cell_type": "markdown",
   "metadata": {
    "id": "D5edKKT6Vk1C"
   },
   "source": [
    "## Full-Batch Training"
   ]
  },
  {
   "cell_type": "code",
   "execution_count": null,
   "metadata": {
    "colab": {
     "base_uri": "https://localhost:8080/"
    },
    "id": "N5tIXxC8ViFD",
    "outputId": "4dbf88f1-dde8-4033-9240-980d27f3a598"
   },
   "outputs": [],
   "source": [
    "if 'IS_GRADESCOPE_ENV' not in os.environ:\n",
    "  \n",
    "  set_seed()\n",
    "\n",
    "  graphs_train, graphs_val, graphs_test = \\\n",
    "      GraphDataset.pyg_to_graphs(pyg_dataset, verbose=True, fixed_split=True)\n",
    "\n",
    "  graph_train = graphs_train[0]\n",
    "  graph_val = graphs_val[0]\n",
    "  graph_test = graphs_test[0]\n",
    "\n",
    "  model = GNN(graph_train.num_node_features, args['hidden_size'], graph_train.num_node_labels, args).to(args['device'])\n",
    "\n",
    "  # Disable compile as this does not seem to work yet in PyTorch 2.0.1/PyG 2.3.1\n",
    "  # try:\n",
    "  #   model = torch_geometric.compile(model)\n",
    "  #   print(f\"GNN Model compiled\")\n",
    "  # except Exception as err:\n",
    "  #   print(f\"Model compile not supported: {err}\")\n",
    "\n",
    "  optimizer = torch.optim.Adam(model.parameters(), lr=args['lr'])\n",
    "  graphs = [graph_train, graph_val, graph_test]\n",
    "  all_best_model, all_accs = train(graphs, graphs, args, model, optimizer, mode=\"all\")\n",
    "  train_acc, val_acc, test_acc = test([graph_train, graph_val, graph_test], all_best_model)\n",
    "  print('Best model:',\n",
    "        f'Train: {100 * train_acc:.2f}%, '\n",
    "        f'Valid: {100 * val_acc:.2f}% '\n",
    "        f'Test: {100 * test_acc:.2f}%')"
   ]
  },
  {
   "cell_type": "markdown",
   "metadata": {
    "id": "6RpuETv7Vpx0"
   },
   "source": [
    "## Visualization"
   ]
  },
  {
   "cell_type": "code",
   "execution_count": null,
   "metadata": {
    "colab": {
     "base_uri": "https://localhost:8080/",
     "height": 641
    },
    "id": "PMK33kY5VmF5",
    "outputId": "369c25d1-6acc-4b35-9cbe-ae90351bcacf"
   },
   "outputs": [],
   "source": [
    "import numpy as np\n",
    "from matplotlib import pyplot as plt\n",
    "\n",
    "if 'IS_GRADESCOPE_ENV' not in os.environ:\n",
    "  louvain_results = np.array(louvain_accs)\n",
    "  bisection_results = np.array(bisection_accs)\n",
    "  greedy_results = np.array(greedy_accs)\n",
    "  all_results = np.array(all_accs)\n",
    "\n",
    "  x = np.arange(1, 151)\n",
    "\n",
    "  plt.figure(figsize=(9, 7))\n",
    "\n",
    "  plt.plot(x, louvain_results[:, 1], label=\"Louvain Validation\")\n",
    "  plt.plot(x, louvain_results[:, 2], label=\"Louvain Test\")\n",
    "  plt.plot(x, bisection_results[:, 1], label=\"Bisection Validation\")\n",
    "  plt.plot(x, bisection_results[:, 2], label=\"Bisection Test\")\n",
    "  plt.plot(x, greedy_results[:, 1], label=\"Greedy Validation\")\n",
    "  plt.plot(x, greedy_results[:, 2], label=\"Greedy Test\")\n",
    "  plt.plot(x, all_results[:, 1], label=\"All Validation\")\n",
    "  plt.plot(x, all_results[:, 2], label=\"All Test\")\n",
    "  plt.title('Model Accuracy')\n",
    "  plt.ylabel('Accuracy')\n",
    "  plt.xlabel('Epoch')\n",
    "  plt.legend()\n",
    "  plt.show()"
   ]
  },
  {
   "cell_type": "markdown",
   "metadata": {
    "id": "kfucBiYfVYFF"
   },
   "source": [
    "# Submission\n",
    "\n",
    "You will need to submit three files on Gradescope to complete this notebook. \n",
    "\n",
    "1.   Your completed *XCS224W_Colab5.ipynb*. From the \"File\" menu select \"Download .ipynb\" to save a local copy of your completed Colab. \n",
    "2.  *CORA_Node_batch_(0.7,0.9,1).csv*\n",
    "3.  *CORA_Node_batch_(0.3,0.5,1).csv*\n",
    "4.  *CORA_Node_cluster_louvain.csv*\n",
    "5.  *CORA_Node_cluster_greedy.csv*\n",
    "6.  *CORA_Node_cluster_bisection.csv*\n",
    "\n",
    "Download the csv files by selecting the *Folder* icon on the left panel. \n",
    "\n",
    "To submit your work, zip the files downloaded in steps 1-7 above and submit to gradescope. **NOTE:** DO NOT rename any of the downloaded files. "
   ]
  }
 ],
 "metadata": {
  "accelerator": "GPU",
  "colab": {
   "machine_shape": "hm",
   "provenance": []
  },
  "kernelspec": {
   "display_name": "Python 3 (ipykernel)",
   "language": "python",
   "name": "python3"
  },
  "language_info": {
   "codemirror_mode": {
    "name": "ipython",
    "version": 3
   },
   "file_extension": ".py",
   "mimetype": "text/x-python",
   "name": "python",
   "nbconvert_exporter": "python",
   "pygments_lexer": "ipython3",
   "version": "3.10.11"
  },
  "vscode": {
   "interpreter": {
    "hash": "31f2aee4e71d21fbe5cf8b01ff0e069b9275f58929596ceb00d14d90e3e16cd6"
   }
  }
 },
 "nbformat": 4,
 "nbformat_minor": 4
}
